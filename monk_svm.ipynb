{
 "cells": [
  {
   "attachments": {},
   "cell_type": "markdown",
   "id": "FflMaBASVxvy",
   "metadata": {
    "id": "FflMaBASVxvy"
   },
   "source": [
    "# Libraries"
   ]
  },
  {
   "cell_type": "code",
   "execution_count": 1,
   "id": "9cee1af2",
   "metadata": {
    "id": "9cee1af2"
   },
   "outputs": [],
   "source": [
    "%matplotlib inline\n",
    "import numpy as np\n",
    "import pandas as pd\n",
    "import matplotlib\n",
    "import matplotlib.pyplot as plt\n",
    "import seaborn as sns\n",
    "import joblib"
   ]
  },
  {
   "cell_type": "code",
   "execution_count": 2,
   "id": "4l97cS3Bfe7H",
   "metadata": {
    "colab": {
     "base_uri": "https://localhost:8080/"
    },
    "id": "4l97cS3Bfe7H",
    "outputId": "372d042d-6ad0-4f2e-b8ab-21efc6a23b25"
   },
   "outputs": [
    {
     "name": "stdout",
     "output_type": "stream",
     "text": [
      "<class 'pandas.core.frame.DataFrame'>\n",
      "Index: 124 entries, data_5 to data_432\n",
      "Data columns (total 7 columns):\n",
      " #   Column  Non-Null Count  Dtype\n",
      "---  ------  --------------  -----\n",
      " 0   class   124 non-null    int64\n",
      " 1   a1      124 non-null    int64\n",
      " 2   a2      124 non-null    int64\n",
      " 3   a3      124 non-null    int64\n",
      " 4   a4      124 non-null    int64\n",
      " 5   a5      124 non-null    int64\n",
      " 6   a6      124 non-null    int64\n",
      "dtypes: int64(7)\n",
      "memory usage: 7.8+ KB\n",
      "<class 'pandas.core.frame.DataFrame'>\n",
      "Index: 432 entries, data_1 to data_432\n",
      "Data columns (total 7 columns):\n",
      " #   Column  Non-Null Count  Dtype\n",
      "---  ------  --------------  -----\n",
      " 0   class   432 non-null    int64\n",
      " 1   a1      432 non-null    int64\n",
      " 2   a2      432 non-null    int64\n",
      " 3   a3      432 non-null    int64\n",
      " 4   a4      432 non-null    int64\n",
      " 5   a5      432 non-null    int64\n",
      " 6   a6      432 non-null    int64\n",
      "dtypes: int64(7)\n",
      "memory usage: 27.0+ KB\n",
      "Shapes before encoding:\n",
      "x_train_m1 (124, 6)\n",
      "y_train_m1 (124,)\n",
      "x_test_m1 (432, 6)\n",
      "y_test_m1 (432,)\n",
      "Shapes after encoding:\n",
      "x_train_m1 (124, 17)\n",
      "y_train_m1 (124,)\n",
      "x_test_m1 (432, 17)\n",
      "y_test_m1 (432,)\n",
      "<class 'pandas.core.frame.DataFrame'>\n",
      "Index: 169 entries, data_4 to data_432\n",
      "Data columns (total 7 columns):\n",
      " #   Column  Non-Null Count  Dtype\n",
      "---  ------  --------------  -----\n",
      " 0   class   169 non-null    int64\n",
      " 1   a1      169 non-null    int64\n",
      " 2   a2      169 non-null    int64\n",
      " 3   a3      169 non-null    int64\n",
      " 4   a4      169 non-null    int64\n",
      " 5   a5      169 non-null    int64\n",
      " 6   a6      169 non-null    int64\n",
      "dtypes: int64(7)\n",
      "memory usage: 10.6+ KB\n",
      "<class 'pandas.core.frame.DataFrame'>\n",
      "Index: 432 entries, data_1 to data_432\n",
      "Data columns (total 7 columns):\n",
      " #   Column  Non-Null Count  Dtype\n",
      "---  ------  --------------  -----\n",
      " 0   class   432 non-null    int64\n",
      " 1   a1      432 non-null    int64\n",
      " 2   a2      432 non-null    int64\n",
      " 3   a3      432 non-null    int64\n",
      " 4   a4      432 non-null    int64\n",
      " 5   a5      432 non-null    int64\n",
      " 6   a6      432 non-null    int64\n",
      "dtypes: int64(7)\n",
      "memory usage: 27.0+ KB\n",
      "Shapes before encoding:\n",
      "x_train_m2 (169, 6)\n",
      "y_train_m2 (169,)\n",
      "x_test_m2 (432, 6)\n",
      "y_test_m2 (432,)\n",
      "Shapes after encoding:\n",
      "x_train_m2 (169, 17)\n",
      "y_train_m2 (169,)\n",
      "x_test_m2 (432, 17)\n",
      "y_test_m2 (432,)\n",
      "<class 'pandas.core.frame.DataFrame'>\n",
      "Index: 122 entries, data_2 to data_432\n",
      "Data columns (total 7 columns):\n",
      " #   Column  Non-Null Count  Dtype\n",
      "---  ------  --------------  -----\n",
      " 0   class   122 non-null    int64\n",
      " 1   a1      122 non-null    int64\n",
      " 2   a2      122 non-null    int64\n",
      " 3   a3      122 non-null    int64\n",
      " 4   a4      122 non-null    int64\n",
      " 5   a5      122 non-null    int64\n",
      " 6   a6      122 non-null    int64\n",
      "dtypes: int64(7)\n",
      "memory usage: 7.6+ KB\n",
      "<class 'pandas.core.frame.DataFrame'>\n",
      "Index: 432 entries, data_1 to data_432\n",
      "Data columns (total 7 columns):\n",
      " #   Column  Non-Null Count  Dtype\n",
      "---  ------  --------------  -----\n",
      " 0   class   432 non-null    int64\n",
      " 1   a1      432 non-null    int64\n",
      " 2   a2      432 non-null    int64\n",
      " 3   a3      432 non-null    int64\n",
      " 4   a4      432 non-null    int64\n",
      " 5   a5      432 non-null    int64\n",
      " 6   a6      432 non-null    int64\n",
      "dtypes: int64(7)\n",
      "memory usage: 27.0+ KB\n",
      "Shapes before encoding:\n",
      "x_train_m3 (122, 6)\n",
      "y_train_m3 (122,)\n",
      "x_test_m3 (432, 6)\n",
      "y_test_m3 (432,)\n",
      "Shapes after encoding:\n",
      "x_train_m3 (122, 17)\n",
      "y_train_m3 (122,)\n",
      "x_test_m3 (432, 17)\n",
      "y_test_m3 (432,)\n"
     ]
    }
   ],
   "source": [
    "from set_extraction_monks import x_train_m1, y_train_m1, x_test_m1, y_test_m1, x_train_m2, y_train_m2, x_test_m2, y_test_m2, x_train_m3, y_train_m3, x_test_m3, y_test_m3"
   ]
  },
  {
   "attachments": {},
   "cell_type": "markdown",
   "id": "KXzNMXm7fl9u",
   "metadata": {
    "id": "KXzNMXm7fl9u"
   },
   "source": [
    "# Models"
   ]
  },
  {
   "cell_type": "code",
   "execution_count": 3,
   "id": "E5agkfWn-eyF",
   "metadata": {
    "id": "E5agkfWn-eyF"
   },
   "outputs": [],
   "source": [
    "from sklearn.model_selection import KFold\n",
    "from sklearn.model_selection import GridSearchCV\n",
    "from sklearn.svm import SVC\n",
    "from sklearn.metrics import classification_report, accuracy_score, plot_confusion_matrix"
   ]
  },
  {
   "cell_type": "code",
   "execution_count": 4,
   "id": "cfdGUBFEyfvk",
   "metadata": {
    "id": "cfdGUBFEyfvk"
   },
   "outputs": [],
   "source": [
    "results = []"
   ]
  },
  {
   "attachments": {},
   "cell_type": "markdown",
   "id": "_Y6JFQ65SXmK",
   "metadata": {
    "id": "_Y6JFQ65SXmK"
   },
   "source": [
    "# SVM"
   ]
  },
  {
   "attachments": {},
   "cell_type": "markdown",
   "id": "JEaPt-yI6RFQ",
   "metadata": {
    "id": "JEaPt-yI6RFQ"
   },
   "source": [
    "## SupportVectorClassification monk-1"
   ]
  },
  {
   "attachments": {},
   "cell_type": "markdown",
   "id": "ehMUncyO677v",
   "metadata": {
    "id": "ehMUncyO677v"
   },
   "source": [
    "### Grid search for parameter setting \n"
   ]
  },
  {
   "cell_type": "code",
   "execution_count": 5,
   "id": "GBKjijjF677w",
   "metadata": {
    "id": "GBKjijjF677w"
   },
   "outputs": [],
   "source": [
    "params = {'kernel' : ['linear', 'poly', 'rbf', 'sigmoid'],\n",
    "          'C' : [0.1, 0.5, 1, 2, 3],\n",
    "          'coef0' : [0.0, 0.01, 0.1, 0.5],\n",
    "          'gamma' : ['auto','scale'],\n",
    "          'shrinking' : [True, False]\n",
    "          } "
   ]
  },
  {
   "cell_type": "code",
   "execution_count": 6,
   "id": "YBP5U1vt677w",
   "metadata": {
    "colab": {
     "base_uri": "https://localhost:8080/"
    },
    "id": "YBP5U1vt677w",
    "outputId": "8817b985-06c6-48d6-ee63-4f675cc343a9"
   },
   "outputs": [
    {
     "name": "stdout",
     "output_type": "stream",
     "text": [
      "Fitting 5 folds for each of 320 candidates, totalling 1600 fits\n"
     ]
    },
    {
     "data": {
      "text/plain": [
       "GridSearchCV(cv=5, estimator=SVC(), n_jobs=-1,\n",
       "             param_grid={'C': [0.1, 0.5, 1, 2, 3],\n",
       "                         'coef0': [0.0, 0.01, 0.1, 0.5],\n",
       "                         'gamma': ['auto', 'scale'],\n",
       "                         'kernel': ['linear', 'poly', 'rbf', 'sigmoid'],\n",
       "                         'shrinking': [True, False]},\n",
       "             scoring='accuracy', verbose=4)"
      ]
     },
     "execution_count": 6,
     "metadata": {},
     "output_type": "execute_result"
    }
   ],
   "source": [
    "#hyperparameter tuning with grid search CV\n",
    "n_jobs_search = -1\n",
    "svc_search = SVC()\n",
    "\n",
    "svc_cv_m1 = GridSearchCV(estimator=svc_search, param_grid=params, scoring='accuracy', cv=5, verbose=4, n_jobs=n_jobs_search) \n",
    "svc_cv_m1.fit(x_train_m1, y_train_m1)"
   ]
  },
  {
   "cell_type": "code",
   "execution_count": 7,
   "id": "ws_WYPgj677x",
   "metadata": {
    "colab": {
     "base_uri": "https://localhost:8080/"
    },
    "id": "ws_WYPgj677x",
    "outputId": "5feccafe-f70d-4e0f-8b46-4962a49d132b"
   },
   "outputs": [
    {
     "data": {
      "text/plain": [
       "{'C': 1, 'coef0': 0.5, 'gamma': 'scale', 'kernel': 'poly', 'shrinking': True}"
      ]
     },
     "execution_count": 7,
     "metadata": {},
     "output_type": "execute_result"
    }
   ],
   "source": [
    "svc_cv_m1.best_params_"
   ]
  },
  {
   "cell_type": "code",
   "execution_count": 8,
   "id": "tdrDU0z4677x",
   "metadata": {
    "colab": {
     "base_uri": "https://localhost:8080/"
    },
    "id": "tdrDU0z4677x",
    "outputId": "d95ee9a0-e311-4b00-8a40-4ce1358ff0b7"
   },
   "outputs": [
    {
     "data": {
      "text/plain": [
       "1.0"
      ]
     },
     "execution_count": 8,
     "metadata": {},
     "output_type": "execute_result"
    }
   ],
   "source": [
    "# validation\n",
    "svc_cv_m1.best_score_"
   ]
  },
  {
   "cell_type": "code",
   "execution_count": 9,
   "id": "e5d5f261",
   "metadata": {
    "id": "e5d5f261",
    "outputId": "7df56560-8de7-4df8-d31e-ec7e4f28db5f"
   },
   "outputs": [
    {
     "data": {
      "text/plain": [
       "['monk_models/svc_m1.z']"
      ]
     },
     "execution_count": 9,
     "metadata": {},
     "output_type": "execute_result"
    }
   ],
   "source": [
    "# save the model to disk\n",
    "joblib.dump(svc_cv_m1.best_estimator_, 'monk_models/svc_m1.z')"
   ]
  },
  {
   "attachments": {},
   "cell_type": "markdown",
   "id": "ebd68d26-76b8-4889-a40d-fed426b8e7ea",
   "metadata": {
    "tags": []
   },
   "source": [
    "### Validation plot"
   ]
  },
  {
   "cell_type": "code",
   "execution_count": 10,
   "id": "eb61e1ac-6a6c-4715-a9ff-8ac53862dc51",
   "metadata": {
    "tags": []
   },
   "outputs": [
    {
     "data": {
      "image/png": "[encoded data removed]",
      "text/plain": [
       "<Figure size 640x480 with 1 Axes>"
      ]
     },
     "metadata": {},
     "output_type": "display_data"
    }
   ],
   "source": [
    "from sklearn.model_selection import validation_curve\n",
    "\n",
    "param_range = [0.1, 0.5, 1, 2, 3] \n",
    "\n",
    "train_scores, test_scores = validation_curve(\n",
    "    SVC(coef0=0.5, gamma='scale', kernel='poly', shrinking=True),\n",
    "    x_train_m1,\n",
    "    y_train_m1,\n",
    "    param_name=\"C\",\n",
    "    param_range=param_range,\n",
    "    scoring='accuracy',\n",
    "    n_jobs=2\n",
    ")\n",
    "\n",
    "train_scores_mean = np.mean(train_scores, axis=1)\n",
    "train_scores_std = np.std(train_scores, axis=1)\n",
    "test_scores_mean = np.mean(test_scores, axis=1)\n",
    "test_scores_std = np.std(test_scores, axis=1)\n",
    "\n",
    "plt.title(\"Validation Curve with SVC\")\n",
    "plt.xlabel(\"C\")\n",
    "plt.ylabel(\"Score\")\n",
    "\n",
    "plt.ylim(0.7, 1.1)\n",
    "\n",
    "lw = 2\n",
    "plt.semilogx(\n",
    "    param_range, train_scores_mean, label=\"Training score\", color=\"darkorange\", lw=lw\n",
    ")\n",
    "\n",
    "plt.fill_between(\n",
    "    param_range,\n",
    "    train_scores_mean - train_scores_std,\n",
    "    train_scores_mean + train_scores_std,\n",
    "    alpha=0.2,\n",
    "    color=\"darkorange\",\n",
    "    lw=lw,\n",
    ")\n",
    "\n",
    "plt.semilogx(\n",
    "    param_range, test_scores_mean, label=\"Cross-validation score\", color=\"navy\", lw=lw\n",
    ")\n",
    "\n",
    "plt.fill_between(\n",
    "    param_range,\n",
    "    test_scores_mean - test_scores_std,\n",
    "    test_scores_mean + test_scores_std,\n",
    "    alpha=0.2,\n",
    "    color=\"navy\",\n",
    "    lw=lw\n",
    ")\n",
    "\n",
    "plt.legend(loc=\"best\")\n",
    "\n",
    "plt.show()"
   ]
  },
  {
   "attachments": {},
   "cell_type": "markdown",
   "id": "ELqwTyDW677x",
   "metadata": {
    "id": "ELqwTyDW677x"
   },
   "source": [
    "### Final model"
   ]
  },
  {
   "cell_type": "code",
   "execution_count": 11,
   "id": "s0bqoh6u677x",
   "metadata": {
    "id": "s0bqoh6u677x"
   },
   "outputs": [],
   "source": [
    "svc = joblib.load('monk_models/svc_m1.z')"
   ]
  },
  {
   "cell_type": "code",
   "execution_count": 12,
   "id": "El9iof4-c6Zb",
   "metadata": {
    "colab": {
     "base_uri": "https://localhost:8080/"
    },
    "id": "El9iof4-c6Zb",
    "outputId": "34f69d08-aa13-4032-db2c-5a41efbe590b"
   },
   "outputs": [
    {
     "data": {
      "text/plain": [
       "SVC(C=1, coef0=0.5, kernel='poly')"
      ]
     },
     "execution_count": 12,
     "metadata": {},
     "output_type": "execute_result"
    }
   ],
   "source": [
    "svc"
   ]
  },
  {
   "cell_type": "code",
   "execution_count": 13,
   "id": "SvShw5DD677x",
   "metadata": {
    "id": "SvShw5DD677x"
   },
   "outputs": [],
   "source": [
    "train_pred_svc = svc.predict(x_train_m1)"
   ]
  },
  {
   "cell_type": "code",
   "execution_count": 14,
   "id": "7A0AjvPm677x",
   "metadata": {
    "colab": {
     "base_uri": "https://localhost:8080/"
    },
    "id": "7A0AjvPm677x",
    "outputId": "7ef61661-b6fd-487e-b6b2-436ef6eb4593"
   },
   "outputs": [
    {
     "name": "stdout",
     "output_type": "stream",
     "text": [
      "Accuracy train set\n",
      "              precision    recall  f1-score   support\n",
      "\n",
      "           0       1.00      1.00      1.00        62\n",
      "           1       1.00      1.00      1.00        62\n",
      "\n",
      "    accuracy                           1.00       124\n",
      "   macro avg       1.00      1.00      1.00       124\n",
      "weighted avg       1.00      1.00      1.00       124\n",
      "\n"
     ]
    }
   ],
   "source": [
    "print('Accuracy train set')\n",
    "print(classification_report(y_train_m1, train_pred_svc))"
   ]
  },
  {
   "cell_type": "code",
   "execution_count": 15,
   "id": "ejnjZzrcc8Ul",
   "metadata": {
    "id": "ejnjZzrcc8Ul"
   },
   "outputs": [],
   "source": [
    "test_pred_svc = svc.predict(x_test_m1)"
   ]
  },
  {
   "cell_type": "code",
   "execution_count": 16,
   "id": "iKtR27kZc8fg",
   "metadata": {
    "colab": {
     "base_uri": "https://localhost:8080/"
    },
    "id": "iKtR27kZc8fg",
    "outputId": "9dda235c-9350-487c-9747-fe12a145e849"
   },
   "outputs": [
    {
     "name": "stdout",
     "output_type": "stream",
     "text": [
      "Accuarcy test set\n",
      "              precision    recall  f1-score   support\n",
      "\n",
      "           0       1.00      1.00      1.00       216\n",
      "           1       1.00      1.00      1.00       216\n",
      "\n",
      "    accuracy                           1.00       432\n",
      "   macro avg       1.00      1.00      1.00       432\n",
      "weighted avg       1.00      1.00      1.00       432\n",
      "\n"
     ]
    }
   ],
   "source": [
    "print('Accuarcy test set')\n",
    "print(classification_report(y_test_m1, test_pred_svc))"
   ]
  },
  {
   "cell_type": "code",
   "execution_count": 17,
   "id": "e1d174d2",
   "metadata": {},
   "outputs": [
    {
     "name": "stderr",
     "output_type": "stream",
     "text": [
      "C:\\Users\\veron\\AppData\\Roaming\\Python\\Python311\\site-packages\\sklearn\\utils\\deprecation.py:87: FutureWarning: Function plot_confusion_matrix is deprecated; Function `plot_confusion_matrix` is deprecated in 1.0 and will be removed in 1.2. Use one of the class methods: ConfusionMatrixDisplay.from_predictions or ConfusionMatrixDisplay.from_estimator.\n",
      "  warnings.warn(msg, category=FutureWarning)\n"
     ]
    },
    {
     "data": {
      "image/png": "[encoded data removed]",
      "text/plain": [
       "<Figure size 640x480 with 2 Axes>"
      ]
     },
     "metadata": {},
     "output_type": "display_data"
    }
   ],
   "source": [
    "plot_confusion_matrix(svc, x_test_m1, y_test_m1)\n",
    "plt.show() "
   ]
  },
  {
   "cell_type": "code",
   "execution_count": 18,
   "id": "RJxeZooI677y",
   "metadata": {
    "id": "RJxeZooI677y"
   },
   "outputs": [],
   "source": [
    "results.append(('SupportVectorClassification monk-1 train', accuracy_score(y_train_m1, train_pred_svc)))\n",
    "results.append(('SupportVectorClassification monk-1 validation', svc_cv_m1.best_score_))\n",
    "results.append(('SupportVectorClassification monk-1 test', accuracy_score(y_test_m1, test_pred_svc)))"
   ]
  },
  {
   "attachments": {},
   "cell_type": "markdown",
   "id": "c8804a8c",
   "metadata": {},
   "source": [
    "## SupportVectorClassification monk-2"
   ]
  },
  {
   "attachments": {},
   "cell_type": "markdown",
   "id": "db1380bf",
   "metadata": {},
   "source": [
    "### Grid search for parameter setting \n"
   ]
  },
  {
   "cell_type": "code",
   "execution_count": 19,
   "id": "376eeabe",
   "metadata": {},
   "outputs": [],
   "source": [
    "params = {'kernel' : ['linear', 'poly', 'rbf', 'sigmoid'],\n",
    "          'C' : [0.1, 0.3, 0.5, 0.7, 0.8, 1, 1,1, 1.2, 1.5, 1.8, 1.9, 2],\n",
    "          'coef0' : [0.0, 0.01, 0.1, 0.5, 0.9, 1, 1.5, 2, 2.5,3, 5, 7],\n",
    "          'gamma' : ['auto','scale'],\n",
    "          'shrinking' : [True, False]\n",
    "          } "
   ]
  },
  {
   "cell_type": "code",
   "execution_count": 20,
   "id": "8c7c7bd2",
   "metadata": {},
   "outputs": [
    {
     "name": "stdout",
     "output_type": "stream",
     "text": [
      "Fitting 5 folds for each of 2496 candidates, totalling 12480 fits\n"
     ]
    },
    {
     "data": {
      "text/plain": [
       "GridSearchCV(cv=5, estimator=SVC(), n_jobs=-1,\n",
       "             param_grid={'C': [0.1, 0.3, 0.5, 0.7, 0.8, 1, 1, 1, 1.2, 1.5, 1.8,\n",
       "                               1.9, 2],\n",
       "                         'coef0': [0.0, 0.01, 0.1, 0.5, 0.9, 1, 1.5, 2, 2.5, 3,\n",
       "                                   5, 7],\n",
       "                         'gamma': ['auto', 'scale'],\n",
       "                         'kernel': ['linear', 'poly', 'rbf', 'sigmoid'],\n",
       "                         'shrinking': [True, False]},\n",
       "             scoring='accuracy', verbose=4)"
      ]
     },
     "execution_count": 20,
     "metadata": {},
     "output_type": "execute_result"
    }
   ],
   "source": [
    "#hyperparameter tuning with grid search CV\n",
    "n_jobs_search = -1\n",
    "svc_search = SVC()\n",
    "\n",
    "svc_cv_m2 = GridSearchCV(estimator=svc_search, param_grid=params, scoring='accuracy', cv=5, verbose=4, n_jobs=n_jobs_search) \n",
    "svc_cv_m2.fit(x_train_m2, y_train_m2)"
   ]
  },
  {
   "cell_type": "code",
   "execution_count": 21,
   "id": "bc724b5d",
   "metadata": {},
   "outputs": [
    {
     "data": {
      "text/plain": [
       "{'C': 1.8, 'coef0': 7, 'gamma': 'scale', 'kernel': 'poly', 'shrinking': True}"
      ]
     },
     "execution_count": 21,
     "metadata": {},
     "output_type": "execute_result"
    }
   ],
   "source": [
    "svc_cv_m2.best_params_"
   ]
  },
  {
   "cell_type": "code",
   "execution_count": 22,
   "id": "932c1904",
   "metadata": {},
   "outputs": [
    {
     "data": {
      "text/plain": [
       "0.8408199643493761"
      ]
     },
     "execution_count": 22,
     "metadata": {},
     "output_type": "execute_result"
    }
   ],
   "source": [
    "# validation\n",
    "svc_cv_m2.best_score_"
   ]
  },
  {
   "cell_type": "code",
   "execution_count": 23,
   "id": "64f3bcf6",
   "metadata": {},
   "outputs": [
    {
     "data": {
      "text/plain": [
       "['monk_models/svc_m2.z']"
      ]
     },
     "execution_count": 23,
     "metadata": {},
     "output_type": "execute_result"
    }
   ],
   "source": [
    "# save the model to disk\n",
    "joblib.dump(svc_cv_m2.best_estimator_, 'monk_models/svc_m2.z')"
   ]
  },
  {
   "attachments": {},
   "cell_type": "markdown",
   "id": "2e5c90bb-d1b2-47a3-9b5a-fed4bafbb7c8",
   "metadata": {},
   "source": [
    "### Validation plot"
   ]
  },
  {
   "cell_type": "code",
   "execution_count": 24,
   "id": "5470ebe7-2699-4ca3-aa85-8a374deab46b",
   "metadata": {},
   "outputs": [
    {
     "data": {
      "image/png": "[encoded data removed]",
      "text/plain": [
       "<Figure size 640x480 with 1 Axes>"
      ]
     },
     "metadata": {},
     "output_type": "display_data"
    }
   ],
   "source": [
    "from sklearn.model_selection import validation_curve\n",
    "\n",
    "param_range =  [0.1, 0.3, 0.5, 0.7, 0.8, 1, 1,1, 1.2, 1.5, 1.8, 1.9, 2] \n",
    "\n",
    "train_scores, test_scores = validation_curve(\n",
    "    SVC(coef0=7, gamma='scale', kernel='poly', shrinking=True),\n",
    "    x_train_m2,\n",
    "    y_train_m2,\n",
    "    param_name=\"C\",\n",
    "    param_range=param_range,\n",
    "    scoring='accuracy',\n",
    "    n_jobs=2\n",
    ")\n",
    "\n",
    "train_scores_mean = np.mean(train_scores, axis=1)\n",
    "train_scores_std = np.std(train_scores, axis=1)\n",
    "test_scores_mean = np.mean(test_scores, axis=1)\n",
    "test_scores_std = np.std(test_scores, axis=1)\n",
    "\n",
    "plt.title(\"Validation Curve with SVC\")\n",
    "plt.xlabel(\"C\")\n",
    "plt.ylabel(\"Score\")\n",
    "\n",
    "#plt.xticks(param_range, param_range)\n",
    "plt.ylim(0.3, 1.1)\n",
    "\n",
    "lw = 2\n",
    "plt.semilogx(\n",
    "    param_range, train_scores_mean, label=\"Training score\", color=\"darkorange\", lw=lw\n",
    ")\n",
    "\n",
    "plt.fill_between(\n",
    "    param_range,\n",
    "    train_scores_mean - train_scores_std,\n",
    "    train_scores_mean + train_scores_std,\n",
    "    alpha=0.2,\n",
    "    color=\"darkorange\",\n",
    "    lw=lw,\n",
    ")\n",
    "\n",
    "plt.semilogx(\n",
    "    param_range, test_scores_mean, label=\"Cross-validation score\", color=\"navy\", lw=lw\n",
    ")\n",
    "\n",
    "plt.fill_between(\n",
    "    param_range,\n",
    "    test_scores_mean - test_scores_std,\n",
    "    test_scores_mean + test_scores_std,\n",
    "    alpha=0.2,\n",
    "    color=\"navy\",\n",
    "    lw=lw\n",
    ")\n",
    "\n",
    "plt.legend(loc=\"best\")\n",
    "\n",
    "plt.show()"
   ]
  },
  {
   "attachments": {},
   "cell_type": "markdown",
   "id": "e1b8fd0f",
   "metadata": {},
   "source": [
    "### Final model"
   ]
  },
  {
   "cell_type": "code",
   "execution_count": 25,
   "id": "0a723eec",
   "metadata": {},
   "outputs": [],
   "source": [
    "svc = joblib.load('monk_models/svc_m2.z')"
   ]
  },
  {
   "cell_type": "code",
   "execution_count": 26,
   "id": "82a344d8",
   "metadata": {},
   "outputs": [
    {
     "data": {
      "text/plain": [
       "SVC(C=1.8, coef0=7, kernel='poly')"
      ]
     },
     "execution_count": 26,
     "metadata": {},
     "output_type": "execute_result"
    }
   ],
   "source": [
    "svc"
   ]
  },
  {
   "cell_type": "code",
   "execution_count": 27,
   "id": "f01f00a0",
   "metadata": {},
   "outputs": [],
   "source": [
    "train_pred_svc = svc.predict(x_train_m2)"
   ]
  },
  {
   "cell_type": "code",
   "execution_count": 28,
   "id": "7662d497",
   "metadata": {},
   "outputs": [
    {
     "name": "stdout",
     "output_type": "stream",
     "text": [
      "Accuracy train set\n",
      "              precision    recall  f1-score   support\n",
      "\n",
      "           0       1.00      1.00      1.00       105\n",
      "           1       1.00      1.00      1.00        64\n",
      "\n",
      "    accuracy                           1.00       169\n",
      "   macro avg       1.00      1.00      1.00       169\n",
      "weighted avg       1.00      1.00      1.00       169\n",
      "\n"
     ]
    }
   ],
   "source": [
    "print('Accuracy train set')\n",
    "print(classification_report(y_train_m2, train_pred_svc))"
   ]
  },
  {
   "cell_type": "code",
   "execution_count": 29,
   "id": "41f04e3e",
   "metadata": {},
   "outputs": [],
   "source": [
    "test_pred_svc = svc.predict(x_test_m2)"
   ]
  },
  {
   "cell_type": "code",
   "execution_count": 30,
   "id": "18b97ce1",
   "metadata": {},
   "outputs": [
    {
     "name": "stdout",
     "output_type": "stream",
     "text": [
      "Accuarcy test set\n",
      "              precision    recall  f1-score   support\n",
      "\n",
      "           0       1.00      0.99      1.00       290\n",
      "           1       0.99      1.00      0.99       142\n",
      "\n",
      "    accuracy                           1.00       432\n",
      "   macro avg       0.99      1.00      0.99       432\n",
      "weighted avg       1.00      1.00      1.00       432\n",
      "\n"
     ]
    }
   ],
   "source": [
    "print('Accuarcy test set')\n",
    "print(classification_report(y_test_m2, test_pred_svc))"
   ]
  },
  {
   "cell_type": "code",
   "execution_count": 31,
   "id": "eb568619",
   "metadata": {},
   "outputs": [
    {
     "name": "stderr",
     "output_type": "stream",
     "text": [
      "C:\\Users\\veron\\AppData\\Roaming\\Python\\Python311\\site-packages\\sklearn\\utils\\deprecation.py:87: FutureWarning: Function plot_confusion_matrix is deprecated; Function `plot_confusion_matrix` is deprecated in 1.0 and will be removed in 1.2. Use one of the class methods: ConfusionMatrixDisplay.from_predictions or ConfusionMatrixDisplay.from_estimator.\n",
      "  warnings.warn(msg, category=FutureWarning)\n"
     ]
    },
    {
     "data": {
      "image/png": "[encoded data removed]",
      "text/plain": [
       "<Figure size 640x480 with 2 Axes>"
      ]
     },
     "metadata": {},
     "output_type": "display_data"
    }
   ],
   "source": [
    "plot_confusion_matrix(svc, x_test_m2, y_test_m2)\n",
    "plt.show() "
   ]
  },
  {
   "cell_type": "code",
   "execution_count": 32,
   "id": "6548f4a5",
   "metadata": {},
   "outputs": [],
   "source": [
    "results.append(('SupportVectorClassification monk-2 train', accuracy_score(y_train_m2, train_pred_svc)))\n",
    "results.append(('SupportVectorClassification monk-2 validation', svc_cv_m2.best_score_))\n",
    "results.append(('SupportVectorClassification monk-2 test', accuracy_score(y_test_m2, test_pred_svc)))"
   ]
  },
  {
   "attachments": {},
   "cell_type": "markdown",
   "id": "18daaf5b",
   "metadata": {},
   "source": [
    "## SupportVectorClassification monk-3"
   ]
  },
  {
   "attachments": {},
   "cell_type": "markdown",
   "id": "ea4fd9bc",
   "metadata": {},
   "source": [
    "### Grid search for parameter setting \n"
   ]
  },
  {
   "cell_type": "code",
   "execution_count": 33,
   "id": "30e39611",
   "metadata": {},
   "outputs": [],
   "source": [
    "params = {'kernel' : ['linear', 'poly', 'rbf', 'sigmoid'],\n",
    "          'C' : [0.01, 0.02, 0.03, 0.04, 0.05, 0.06, 0.07, 0.08, 0.09, 0.1, 0.2, 0.3, 0.4, 0.5, 1],\n",
    "          'coef0' : [0.0, 0.01, 0.1, 0.5, 1, 1.2, 1.5, 1.8, 2],\n",
    "          'gamma' : ['auto','scale'],\n",
    "          'shrinking' : [True, False]\n",
    "          } "
   ]
  },
  {
   "cell_type": "code",
   "execution_count": 34,
   "id": "8f2c4d10",
   "metadata": {},
   "outputs": [
    {
     "name": "stdout",
     "output_type": "stream",
     "text": [
      "Fitting 5 folds for each of 2160 candidates, totalling 10800 fits\n"
     ]
    },
    {
     "data": {
      "text/plain": [
       "GridSearchCV(cv=5, estimator=SVC(), n_jobs=-1,\n",
       "             param_grid={'C': [0.01, 0.02, 0.03, 0.04, 0.05, 0.06, 0.07, 0.08,\n",
       "                               0.09, 0.1, 0.2, 0.3, 0.4, 0.5, 1],\n",
       "                         'coef0': [0.0, 0.01, 0.1, 0.5, 1, 1.2, 1.5, 1.8, 2],\n",
       "                         'gamma': ['auto', 'scale'],\n",
       "                         'kernel': ['linear', 'poly', 'rbf', 'sigmoid'],\n",
       "                         'shrinking': [True, False]},\n",
       "             scoring='accuracy', verbose=4)"
      ]
     },
     "execution_count": 34,
     "metadata": {},
     "output_type": "execute_result"
    }
   ],
   "source": [
    "#hyperparameter tuning with grid search CV\n",
    "n_jobs_search = -1\n",
    "svc_search = SVC()\n",
    "\n",
    "svc_cv_m3 = GridSearchCV(estimator=svc_search, param_grid=params, scoring='accuracy', cv=5, verbose=4, n_jobs=n_jobs_search) \n",
    "svc_cv_m3.fit(x_train_m3, y_train_m3)"
   ]
  },
  {
   "cell_type": "code",
   "execution_count": 35,
   "id": "451563c5",
   "metadata": {},
   "outputs": [
    {
     "data": {
      "text/plain": [
       "{'C': 0.02,\n",
       " 'coef0': 1.5,\n",
       " 'gamma': 'scale',\n",
       " 'kernel': 'poly',\n",
       " 'shrinking': True}"
      ]
     },
     "execution_count": 35,
     "metadata": {},
     "output_type": "execute_result"
    }
   ],
   "source": [
    "svc_cv_m3.best_params_"
   ]
  },
  {
   "cell_type": "code",
   "execution_count": 36,
   "id": "50ba4227",
   "metadata": {},
   "outputs": [
    {
     "data": {
      "text/plain": [
       "0.9339999999999999"
      ]
     },
     "execution_count": 36,
     "metadata": {},
     "output_type": "execute_result"
    }
   ],
   "source": [
    "# validation\n",
    "svc_cv_m3.best_score_"
   ]
  },
  {
   "cell_type": "code",
   "execution_count": 37,
   "id": "dab01758",
   "metadata": {},
   "outputs": [
    {
     "data": {
      "text/plain": [
       "['monk_models/svc_m3.z']"
      ]
     },
     "execution_count": 37,
     "metadata": {},
     "output_type": "execute_result"
    }
   ],
   "source": [
    "# save the model to disk\n",
    "joblib.dump(svc_cv_m3.best_estimator_, 'monk_models/svc_m3.z')"
   ]
  },
  {
   "attachments": {},
   "cell_type": "markdown",
   "id": "47abad9b-8737-478e-8b26-1322cd09eb54",
   "metadata": {},
   "source": [
    "### Validation plot"
   ]
  },
  {
   "cell_type": "code",
   "execution_count": 38,
   "id": "499a240c-ca66-4aa7-8f7a-8ee056b3bcb2",
   "metadata": {},
   "outputs": [
    {
     "data": {
      "image/png": "[encoded data removed]",
      "text/plain": [
       "<Figure size 640x480 with 1 Axes>"
      ]
     },
     "metadata": {},
     "output_type": "display_data"
    }
   ],
   "source": [
    "from sklearn.model_selection import validation_curve\n",
    "\n",
    "param_range = [0.01, 0.02, 0.03, 0.04, 0.05, 0.06, 0.07, 0.08, 0.09, 0.1, 0.2, 0.3, 0.4, 0.5, 1]\n",
    "\n",
    "train_scores, test_scores = validation_curve(\n",
    "    SVC(coef0=1.5, gamma='scale', kernel='poly', shrinking=True),\n",
    "    x_train_m3,\n",
    "    y_train_m3,\n",
    "    param_name=\"C\",\n",
    "    param_range=param_range,\n",
    "    scoring='accuracy',\n",
    "    n_jobs=2\n",
    ")\n",
    "\n",
    "train_scores_mean = np.mean(train_scores, axis=1)\n",
    "train_scores_std = np.std(train_scores, axis=1)\n",
    "test_scores_mean = np.mean(test_scores, axis=1)\n",
    "test_scores_std = np.std(test_scores, axis=1)\n",
    "\n",
    "plt.title(\"Validation Curve with SVC\")\n",
    "plt.xlabel(\"C\")\n",
    "plt.ylabel(\"Score\")\n",
    "\n",
    "plt.ylim(0.3, 1.1)\n",
    "\n",
    "lw = 2\n",
    "plt.semilogx(\n",
    "    param_range, train_scores_mean, label=\"Training score\", color=\"darkorange\", lw=lw\n",
    ")\n",
    "\n",
    "plt.fill_between(\n",
    "    param_range,\n",
    "    train_scores_mean - train_scores_std,\n",
    "    train_scores_mean + train_scores_std,\n",
    "    alpha=0.2,\n",
    "    color=\"darkorange\",\n",
    "    lw=lw,\n",
    ")\n",
    "\n",
    "plt.semilogx(\n",
    "    param_range, test_scores_mean, label=\"Cross-validation score\", color=\"navy\", lw=lw\n",
    ")\n",
    "\n",
    "plt.fill_between(\n",
    "    param_range,\n",
    "    test_scores_mean - test_scores_std,\n",
    "    test_scores_mean + test_scores_std,\n",
    "    alpha=0.2,\n",
    "    color=\"navy\",\n",
    "    lw=lw\n",
    ")\n",
    "\n",
    "plt.legend(loc=\"best\")\n",
    "\n",
    "plt.show()"
   ]
  },
  {
   "attachments": {},
   "cell_type": "markdown",
   "id": "18f1ee73",
   "metadata": {},
   "source": [
    "### Final model"
   ]
  },
  {
   "cell_type": "code",
   "execution_count": 39,
   "id": "4df08f34",
   "metadata": {},
   "outputs": [],
   "source": [
    "svc = joblib.load('monk_models/svc_m3.z')"
   ]
  },
  {
   "cell_type": "code",
   "execution_count": 40,
   "id": "47c05cb2",
   "metadata": {},
   "outputs": [
    {
     "data": {
      "text/plain": [
       "SVC(C=0.02, coef0=1.5, kernel='poly')"
      ]
     },
     "execution_count": 40,
     "metadata": {},
     "output_type": "execute_result"
    }
   ],
   "source": [
    "svc"
   ]
  },
  {
   "cell_type": "code",
   "execution_count": 41,
   "id": "90c4d940",
   "metadata": {},
   "outputs": [],
   "source": [
    "train_pred_svc = svc.predict(x_train_m3)"
   ]
  },
  {
   "cell_type": "code",
   "execution_count": 42,
   "id": "fd3331d7",
   "metadata": {},
   "outputs": [
    {
     "name": "stdout",
     "output_type": "stream",
     "text": [
      "Accuracy train set\n",
      "              precision    recall  f1-score   support\n",
      "\n",
      "           0       0.95      0.92      0.93        62\n",
      "           1       0.92      0.95      0.93        60\n",
      "\n",
      "    accuracy                           0.93       122\n",
      "   macro avg       0.93      0.93      0.93       122\n",
      "weighted avg       0.93      0.93      0.93       122\n",
      "\n"
     ]
    }
   ],
   "source": [
    "print('Accuracy train set')\n",
    "print(classification_report(y_train_m3, train_pred_svc))"
   ]
  },
  {
   "cell_type": "code",
   "execution_count": 43,
   "id": "e891e778",
   "metadata": {},
   "outputs": [],
   "source": [
    "test_pred_svc = svc.predict(x_test_m3)"
   ]
  },
  {
   "cell_type": "code",
   "execution_count": 44,
   "id": "75ad4f8f",
   "metadata": {},
   "outputs": [
    {
     "name": "stdout",
     "output_type": "stream",
     "text": [
      "Accuarcy test set\n",
      "              precision    recall  f1-score   support\n",
      "\n",
      "           0       0.94      1.00      0.97       204\n",
      "           1       1.00      0.95      0.97       228\n",
      "\n",
      "    accuracy                           0.97       432\n",
      "   macro avg       0.97      0.97      0.97       432\n",
      "weighted avg       0.97      0.97      0.97       432\n",
      "\n"
     ]
    }
   ],
   "source": [
    "print('Accuarcy test set')\n",
    "print(classification_report(y_test_m3, test_pred_svc))"
   ]
  },
  {
   "cell_type": "code",
   "execution_count": 45,
   "id": "2b8e255b",
   "metadata": {},
   "outputs": [
    {
     "name": "stderr",
     "output_type": "stream",
     "text": [
      "C:\\Users\\veron\\AppData\\Roaming\\Python\\Python311\\site-packages\\sklearn\\utils\\deprecation.py:87: FutureWarning: Function plot_confusion_matrix is deprecated; Function `plot_confusion_matrix` is deprecated in 1.0 and will be removed in 1.2. Use one of the class methods: ConfusionMatrixDisplay.from_predictions or ConfusionMatrixDisplay.from_estimator.\n",
      "  warnings.warn(msg, category=FutureWarning)\n"
     ]
    },
    {
     "data": {
      "image/png": "[encoded data removed]",
      "text/plain": [
       "<Figure size 640x480 with 2 Axes>"
      ]
     },
     "metadata": {},
     "output_type": "display_data"
    }
   ],
   "source": [
    "plot_confusion_matrix(svc, x_test_m3, y_test_m3)\n",
    "plt.show() "
   ]
  },
  {
   "cell_type": "code",
   "execution_count": 46,
   "id": "b4ee7b46",
   "metadata": {},
   "outputs": [],
   "source": [
    "results.append(('SupportVectorClassification monk-3 train', accuracy_score(y_train_m3, train_pred_svc)))\n",
    "results.append(('SupportVectorClassification monk-3 validation', svc_cv_m3.best_score_))\n",
    "results.append(('SupportVectorClassification monk-3 test', accuracy_score(y_test_m3, test_pred_svc)))"
   ]
  },
  {
   "attachments": {},
   "cell_type": "markdown",
   "id": "e03b9a67",
   "metadata": {},
   "source": [
    "# Summary"
   ]
  },
  {
   "cell_type": "code",
   "execution_count": 47,
   "id": "RjhdgQJc-K05",
   "metadata": {
    "colab": {
     "base_uri": "https://localhost:8080/"
    },
    "id": "RjhdgQJc-K05",
    "outputId": "2f97f20b-73df-4ee4-d566-95e75fc54d6b"
   },
   "outputs": [
    {
     "name": "stdout",
     "output_type": "stream",
     "text": [
      "('SupportVectorClassification monk-1 train', 1.0)\n",
      "('SupportVectorClassification monk-1 validation', 1.0)\n",
      "('SupportVectorClassification monk-1 test', 1.0)\n",
      "('SupportVectorClassification monk-2 train', 1.0)\n",
      "('SupportVectorClassification monk-2 validation', 0.8408199643493761)\n",
      "('SupportVectorClassification monk-2 test', 0.9953703703703703)\n",
      "('SupportVectorClassification monk-3 train', 0.9344262295081968)\n",
      "('SupportVectorClassification monk-3 validation', 0.9339999999999999)\n",
      "('SupportVectorClassification monk-3 test', 0.9722222222222222)\n"
     ]
    }
   ],
   "source": [
    "for i in range(len(results)):\n",
    "  print(results[i])"
   ]
  }
 ],
 "metadata": {
  "colab": {
   "collapsed_sections": [
    "FflMaBASVxvy",
    "KXzNMXm7fl9u"
   ],
   "provenance": []
  },
  "kernelspec": {
   "display_name": "Python 3",
   "language": "python",
   "name": "python3"
  },
  "language_info": {
   "codemirror_mode": {
    "name": "ipython",
    "version": 3
   },
   "file_extension": ".py",
   "mimetype": "text/x-python",
   "name": "python",
   "nbconvert_exporter": "python",
   "pygments_lexer": "ipython3",
   "version": "3.11.0"
  },
  "vscode": {
   "interpreter": {
    "hash": "25ac610e9174fa160c0cdbe0563a2bda541028b128e4230f5f3630bf9b9c363a"
   }
  }
 },
 "nbformat": 4,
 "nbformat_minor": 5
}
