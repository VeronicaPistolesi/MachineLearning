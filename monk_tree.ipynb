{
 "cells": [
  {
   "attachments": {},
   "cell_type": "markdown",
   "id": "FflMaBASVxvy",
   "metadata": {
    "id": "FflMaBASVxvy"
   },
   "source": [
    "# Libraries"
   ]
  },
  {
   "cell_type": "code",
   "execution_count": 1,
   "id": "9cee1af2",
   "metadata": {
    "id": "9cee1af2"
   },
   "outputs": [],
   "source": [
    "%matplotlib inline\n",
    "import numpy as np\n",
    "import pandas as pd\n",
    "import matplotlib\n",
    "import matplotlib.pyplot as plt\n",
    "import seaborn as sns\n",
    "import joblib"
   ]
  },
  {
   "cell_type": "code",
   "execution_count": 2,
   "id": "4l97cS3Bfe7H",
   "metadata": {
    "colab": {
     "base_uri": "https://localhost:8080/"
    },
    "id": "4l97cS3Bfe7H",
    "outputId": "372d042d-6ad0-4f2e-b8ab-21efc6a23b25"
   },
   "outputs": [
    {
     "name": "stdout",
     "output_type": "stream",
     "text": [
      "<class 'pandas.core.frame.DataFrame'>\n",
      "Index: 124 entries, data_5 to data_432\n",
      "Data columns (total 7 columns):\n",
      " #   Column  Non-Null Count  Dtype\n",
      "---  ------  --------------  -----\n",
      " 0   class   124 non-null    int64\n",
      " 1   a1      124 non-null    int64\n",
      " 2   a2      124 non-null    int64\n",
      " 3   a3      124 non-null    int64\n",
      " 4   a4      124 non-null    int64\n",
      " 5   a5      124 non-null    int64\n",
      " 6   a6      124 non-null    int64\n",
      "dtypes: int64(7)\n",
      "memory usage: 7.8+ KB\n",
      "<class 'pandas.core.frame.DataFrame'>\n",
      "Index: 432 entries, data_1 to data_432\n",
      "Data columns (total 7 columns):\n",
      " #   Column  Non-Null Count  Dtype\n",
      "---  ------  --------------  -----\n",
      " 0   class   432 non-null    int64\n",
      " 1   a1      432 non-null    int64\n",
      " 2   a2      432 non-null    int64\n",
      " 3   a3      432 non-null    int64\n",
      " 4   a4      432 non-null    int64\n",
      " 5   a5      432 non-null    int64\n",
      " 6   a6      432 non-null    int64\n",
      "dtypes: int64(7)\n",
      "memory usage: 27.0+ KB\n",
      "Shapes before encoding:\n",
      "x_train_m1 (124, 6)\n",
      "y_train_m1 (124,)\n",
      "x_test_m1 (432, 6)\n",
      "y_test_m1 (432,)\n",
      "Shapes after encoding:\n",
      "x_train_m1 (124, 17)\n",
      "y_train_m1 (124,)\n",
      "x_test_m1 (432, 17)\n",
      "y_test_m1 (432,)\n",
      "<class 'pandas.core.frame.DataFrame'>\n",
      "Index: 169 entries, data_4 to data_432\n",
      "Data columns (total 7 columns):\n",
      " #   Column  Non-Null Count  Dtype\n",
      "---  ------  --------------  -----\n",
      " 0   class   169 non-null    int64\n",
      " 1   a1      169 non-null    int64\n",
      " 2   a2      169 non-null    int64\n",
      " 3   a3      169 non-null    int64\n",
      " 4   a4      169 non-null    int64\n",
      " 5   a5      169 non-null    int64\n",
      " 6   a6      169 non-null    int64\n",
      "dtypes: int64(7)\n",
      "memory usage: 10.6+ KB\n",
      "<class 'pandas.core.frame.DataFrame'>\n",
      "Index: 432 entries, data_1 to data_432\n",
      "Data columns (total 7 columns):\n",
      " #   Column  Non-Null Count  Dtype\n",
      "---  ------  --------------  -----\n",
      " 0   class   432 non-null    int64\n",
      " 1   a1      432 non-null    int64\n",
      " 2   a2      432 non-null    int64\n",
      " 3   a3      432 non-null    int64\n",
      " 4   a4      432 non-null    int64\n",
      " 5   a5      432 non-null    int64\n",
      " 6   a6      432 non-null    int64\n",
      "dtypes: int64(7)\n",
      "memory usage: 27.0+ KB\n",
      "Shapes before encoding:\n",
      "x_train_m2 (169, 6)\n",
      "y_train_m2 (169,)\n",
      "x_test_m2 (432, 6)\n",
      "y_test_m2 (432,)\n",
      "Shapes after encoding:\n",
      "x_train_m2 (169, 17)\n",
      "y_train_m2 (169,)\n",
      "x_test_m2 (432, 17)\n",
      "y_test_m2 (432,)\n",
      "<class 'pandas.core.frame.DataFrame'>\n",
      "Index: 122 entries, data_2 to data_432\n",
      "Data columns (total 7 columns):\n",
      " #   Column  Non-Null Count  Dtype\n",
      "---  ------  --------------  -----\n",
      " 0   class   122 non-null    int64\n",
      " 1   a1      122 non-null    int64\n",
      " 2   a2      122 non-null    int64\n",
      " 3   a3      122 non-null    int64\n",
      " 4   a4      122 non-null    int64\n",
      " 5   a5      122 non-null    int64\n",
      " 6   a6      122 non-null    int64\n",
      "dtypes: int64(7)\n",
      "memory usage: 7.6+ KB\n",
      "<class 'pandas.core.frame.DataFrame'>\n",
      "Index: 432 entries, data_1 to data_432\n",
      "Data columns (total 7 columns):\n",
      " #   Column  Non-Null Count  Dtype\n",
      "---  ------  --------------  -----\n",
      " 0   class   432 non-null    int64\n",
      " 1   a1      432 non-null    int64\n",
      " 2   a2      432 non-null    int64\n",
      " 3   a3      432 non-null    int64\n",
      " 4   a4      432 non-null    int64\n",
      " 5   a5      432 non-null    int64\n",
      " 6   a6      432 non-null    int64\n",
      "dtypes: int64(7)\n",
      "memory usage: 27.0+ KB\n",
      "Shapes before encoding:\n",
      "x_train_m3 (122, 6)\n",
      "y_train_m3 (122,)\n",
      "x_test_m3 (432, 6)\n",
      "y_test_m3 (432,)\n",
      "Shapes after encoding:\n",
      "x_train_m3 (122, 17)\n",
      "y_train_m3 (122,)\n",
      "x_test_m3 (432, 17)\n",
      "y_test_m3 (432,)\n"
     ]
    }
   ],
   "source": [
    "from set_extraction_monks import x_train_m1, y_train_m1, x_test_m1, y_test_m1, x_train_m2, y_train_m2, x_test_m2, y_test_m2, x_train_m3, y_train_m3, x_test_m3, y_test_m3"
   ]
  },
  {
   "attachments": {},
   "cell_type": "markdown",
   "id": "KXzNMXm7fl9u",
   "metadata": {
    "id": "KXzNMXm7fl9u"
   },
   "source": [
    "# Models"
   ]
  },
  {
   "cell_type": "code",
   "execution_count": 3,
   "id": "E5agkfWn-eyF",
   "metadata": {
    "id": "E5agkfWn-eyF"
   },
   "outputs": [],
   "source": [
    "from sklearn.model_selection import KFold\n",
    "\n",
    "from sklearn.model_selection import GridSearchCV\n",
    "\n",
    "from sklearn.tree import DecisionTreeClassifier\n",
    "\n",
    "from sklearn.metrics import classification_report, accuracy_score, plot_confusion_matrix"
   ]
  },
  {
   "cell_type": "code",
   "execution_count": 4,
   "id": "5fe01efd-1290-44d7-81cb-5d11be3fdc2b",
   "metadata": {},
   "outputs": [],
   "source": [
    "import warnings\n",
    "warnings.filterwarnings('ignore')"
   ]
  },
  {
   "cell_type": "code",
   "execution_count": 5,
   "id": "cfdGUBFEyfvk",
   "metadata": {
    "id": "cfdGUBFEyfvk"
   },
   "outputs": [],
   "source": [
    "results = []"
   ]
  },
  {
   "attachments": {},
   "cell_type": "markdown",
   "id": "_Y6JFQ65SXmK",
   "metadata": {
    "id": "_Y6JFQ65SXmK"
   },
   "source": [
    "# TREE"
   ]
  },
  {
   "attachments": {},
   "cell_type": "markdown",
   "id": "JEaPt-yI6RFQ",
   "metadata": {
    "id": "JEaPt-yI6RFQ"
   },
   "source": [
    "## DecisionTreeClassifier monk-1"
   ]
  },
  {
   "attachments": {},
   "cell_type": "markdown",
   "id": "ehMUncyO677v",
   "metadata": {
    "id": "ehMUncyO677v"
   },
   "source": [
    "### Grid search for parameter setting \n"
   ]
  },
  {
   "cell_type": "code",
   "execution_count": 6,
   "id": "GBKjijjF677w",
   "metadata": {
    "id": "GBKjijjF677w"
   },
   "outputs": [],
   "source": [
    "params = { \n",
    "     'criterion': ['gini', 'entropy', 'log_loss'],\n",
    "     #'splitter' : ['best', 'random'],\n",
    "     'max_depth': [None, 5, 10, 20, 30, 40, 50], #40, 50, 100],\n",
    "     'min_samples_split': [2, 5, 10, 20, 40, 50, 80],\n",
    "     'min_samples_leaf': [1, 5, 10, 20, 30], \n",
    "     'min_weight_fraction_leaf': [0.0, 0.1, 0.01, 0.001],\n",
    "     #'max_features':['auto', 'sqrt', 'log2'],\n",
    "     'ccp_alpha': [0.0, 0.1, 0.01], \n",
    "     'max_leaf_nodes': [None, 5, 10, 20, 30, 40, 80],\n",
    "     'class_weight': [None, 'balanced'] \n",
    "}"
   ]
  },
  {
   "cell_type": "code",
   "execution_count": 7,
   "id": "YBP5U1vt677w",
   "metadata": {
    "colab": {
     "base_uri": "https://localhost:8080/"
    },
    "id": "YBP5U1vt677w",
    "outputId": "8817b985-06c6-48d6-ee63-4f675cc343a9",
    "tags": []
   },
   "outputs": [
    {
     "name": "stdout",
     "output_type": "stream",
     "text": [
      "Fitting 5 folds for each of 123480 candidates, totalling 617400 fits\n"
     ]
    },
    {
     "data": {
      "text/plain": [
       "GridSearchCV(cv=5, estimator=DecisionTreeClassifier(), n_jobs=-1,\n",
       "             param_grid={'ccp_alpha': [0.0, 0.1, 0.01],\n",
       "                         'class_weight': [None, 'balanced'],\n",
       "                         'criterion': ['gini', 'entropy', 'log_loss'],\n",
       "                         'max_depth': [None, 5, 10, 20, 30, 40, 50],\n",
       "                         'max_leaf_nodes': [None, 5, 10, 20, 30, 40, 80],\n",
       "                         'min_samples_leaf': [1, 5, 10, 20, 30],\n",
       "                         'min_samples_split': [2, 5, 10, 20, 40, 50, 80],\n",
       "                         'min_weight_fraction_leaf': [0.0, 0.1, 0.01, 0.001]},\n",
       "             scoring='accuracy', verbose=4)"
      ]
     },
     "execution_count": 7,
     "metadata": {},
     "output_type": "execute_result"
    }
   ],
   "source": [
    "#hyperparameter tuning with grid search CV\n",
    "n_jobs_search = -1\n",
    "dt_search = DecisionTreeClassifier()\n",
    "#kfold = KFold(n_splits=5)\n",
    "\n",
    "dt_cv_m1 = GridSearchCV(estimator=dt_search, param_grid=params, scoring='accuracy', cv=5, verbose=4, n_jobs=n_jobs_search) \n",
    "dt_cv_m1.fit(x_train_m1, y_train_m1)"
   ]
  },
  {
   "cell_type": "code",
   "execution_count": 8,
   "id": "ws_WYPgj677x",
   "metadata": {
    "colab": {
     "base_uri": "https://localhost:8080/"
    },
    "id": "ws_WYPgj677x",
    "outputId": "5feccafe-f70d-4e0f-8b46-4962a49d132b"
   },
   "outputs": [
    {
     "data": {
      "text/plain": [
       "{'ccp_alpha': 0.0,\n",
       " 'class_weight': None,\n",
       " 'criterion': 'gini',\n",
       " 'max_depth': 10,\n",
       " 'max_leaf_nodes': 30,\n",
       " 'min_samples_leaf': 1,\n",
       " 'min_samples_split': 2,\n",
       " 'min_weight_fraction_leaf': 0.01}"
      ]
     },
     "execution_count": 8,
     "metadata": {},
     "output_type": "execute_result"
    }
   ],
   "source": [
    "dt_cv_m1.best_params_"
   ]
  },
  {
   "cell_type": "code",
   "execution_count": 9,
   "id": "tdrDU0z4677x",
   "metadata": {
    "colab": {
     "base_uri": "https://localhost:8080/"
    },
    "id": "tdrDU0z4677x",
    "outputId": "d95ee9a0-e311-4b00-8a40-4ce1358ff0b7"
   },
   "outputs": [
    {
     "data": {
      "text/plain": [
       "0.8949999999999999"
      ]
     },
     "execution_count": 9,
     "metadata": {},
     "output_type": "execute_result"
    }
   ],
   "source": [
    "# validation\n",
    "dt_cv_m1.best_score_"
   ]
  },
  {
   "cell_type": "code",
   "execution_count": 10,
   "id": "e5d5f261",
   "metadata": {
    "id": "e5d5f261",
    "outputId": "7df56560-8de7-4df8-d31e-ec7e4f28db5f"
   },
   "outputs": [
    {
     "data": {
      "text/plain": [
       "['monk_models/dt_m1.z']"
      ]
     },
     "execution_count": 10,
     "metadata": {},
     "output_type": "execute_result"
    }
   ],
   "source": [
    "# save the model to disk\n",
    "joblib.dump(dt_cv_m1.best_estimator_, 'monk_models/dt_m1.z')"
   ]
  },
  {
   "attachments": {},
   "cell_type": "markdown",
   "id": "951b7faa-9503-4c29-8b72-54662f510e5d",
   "metadata": {
    "tags": []
   },
   "source": [
    "### Validation plot"
   ]
  },
  {
   "cell_type": "code",
   "execution_count": 11,
   "id": "96711c35",
   "metadata": {},
   "outputs": [],
   "source": [
    "from sklearn.model_selection import validation_curve"
   ]
  },
  {
   "cell_type": "code",
   "execution_count": 12,
   "id": "2ae63b7b-604d-415f-9c4d-82974f37b5eb",
   "metadata": {
    "tags": []
   },
   "outputs": [
    {
     "data": {
      "image/png": "[encoded data removed]",
      "text/plain": [
       "<Figure size 640x480 with 1 Axes>"
      ]
     },
     "metadata": {},
     "output_type": "display_data"
    }
   ],
   "source": [
    "param_range =  [2, 5, 10, 20, 40, 50, 80]\n",
    "train_scores, test_scores = validation_curve(\n",
    "    DecisionTreeClassifier(ccp_alpha=0.0,\n",
    "                            class_weight=None,\n",
    "                            criterion='gini',\n",
    "                            max_depth=10,\n",
    "                            max_leaf_nodes=30,\n",
    "                            min_samples_leaf=1,\n",
    "                            #min_samples_split=2,\n",
    "                            min_weight_fraction_leaf=0.0),\n",
    "                            #splitter='best'),\n",
    "    x_train_m1,\n",
    "    y_train_m1,\n",
    "    param_name=\"min_samples_split\",\n",
    "    param_range=param_range,\n",
    "    scoring='accuracy',\n",
    "    n_jobs=2\n",
    ")\n",
    "\n",
    "train_scores_mean = np.mean(train_scores, axis=1)\n",
    "train_scores_std = np.std(train_scores, axis=1)\n",
    "test_scores_mean = np.mean(test_scores, axis=1)\n",
    "test_scores_std = np.std(test_scores, axis=1)\n",
    "\n",
    "plt.title(\"Validation Curve with DTC\")\n",
    "plt.xlabel(\"min_samples_split\")\n",
    "plt.ylabel(\"Score\")\n",
    "\n",
    "plt.ylim(0.7, 1.1)\n",
    "\n",
    "lw = 2\n",
    "plt.semilogx(\n",
    "    param_range, train_scores_mean, label=\"Training score\", color=\"darkorange\", lw=lw\n",
    ")\n",
    "\n",
    "plt.fill_between(\n",
    "    param_range,\n",
    "    train_scores_mean - train_scores_std,\n",
    "    train_scores_mean + train_scores_std,\n",
    "    alpha=0.2,\n",
    "    color=\"darkorange\",\n",
    "    lw=lw,\n",
    ")\n",
    "\n",
    "plt.semilogx(\n",
    "    param_range, test_scores_mean, label=\"Cross-validation score\", color=\"navy\", lw=lw\n",
    ")\n",
    "\n",
    "plt.fill_between(\n",
    "    param_range,\n",
    "    test_scores_mean - test_scores_std,\n",
    "    test_scores_mean + test_scores_std,\n",
    "    alpha=0.2,\n",
    "    color=\"navy\",\n",
    "    lw=lw\n",
    ")\n",
    "\n",
    "plt.legend(loc=\"best\")\n",
    "\n",
    "plt.show()"
   ]
  },
  {
   "attachments": {},
   "cell_type": "markdown",
   "id": "ELqwTyDW677x",
   "metadata": {
    "id": "ELqwTyDW677x"
   },
   "source": [
    "### Final model"
   ]
  },
  {
   "cell_type": "code",
   "execution_count": 13,
   "id": "s0bqoh6u677x",
   "metadata": {
    "id": "s0bqoh6u677x"
   },
   "outputs": [],
   "source": [
    "dt = joblib.load('monk_models/dt_m1.z')"
   ]
  },
  {
   "cell_type": "code",
   "execution_count": 14,
   "id": "El9iof4-c6Zb",
   "metadata": {
    "colab": {
     "base_uri": "https://localhost:8080/"
    },
    "id": "El9iof4-c6Zb",
    "outputId": "34f69d08-aa13-4032-db2c-5a41efbe590b"
   },
   "outputs": [
    {
     "data": {
      "text/plain": [
       "DecisionTreeClassifier(max_depth=10, max_leaf_nodes=30,\n",
       "                       min_weight_fraction_leaf=0.01)"
      ]
     },
     "execution_count": 14,
     "metadata": {},
     "output_type": "execute_result"
    }
   ],
   "source": [
    "dt"
   ]
  },
  {
   "cell_type": "code",
   "execution_count": 15,
   "id": "SvShw5DD677x",
   "metadata": {
    "id": "SvShw5DD677x"
   },
   "outputs": [],
   "source": [
    "train_pred_dt = dt.predict(x_train_m1)"
   ]
  },
  {
   "cell_type": "code",
   "execution_count": 16,
   "id": "7A0AjvPm677x",
   "metadata": {
    "colab": {
     "base_uri": "https://localhost:8080/"
    },
    "id": "7A0AjvPm677x",
    "outputId": "7ef61661-b6fd-487e-b6b2-436ef6eb4593"
   },
   "outputs": [
    {
     "name": "stdout",
     "output_type": "stream",
     "text": [
      "Accuracy train set\n",
      "              precision    recall  f1-score   support\n",
      "\n",
      "           0       0.95      0.98      0.97        62\n",
      "           1       0.98      0.95      0.97        62\n",
      "\n",
      "    accuracy                           0.97       124\n",
      "   macro avg       0.97      0.97      0.97       124\n",
      "weighted avg       0.97      0.97      0.97       124\n",
      "\n"
     ]
    }
   ],
   "source": [
    "print('Accuracy train set')\n",
    "print(classification_report(y_train_m1, train_pred_dt))"
   ]
  },
  {
   "cell_type": "code",
   "execution_count": 17,
   "id": "ejnjZzrcc8Ul",
   "metadata": {
    "id": "ejnjZzrcc8Ul"
   },
   "outputs": [],
   "source": [
    "test_pred_dt = dt.predict(x_test_m1)"
   ]
  },
  {
   "cell_type": "code",
   "execution_count": 18,
   "id": "iKtR27kZc8fg",
   "metadata": {
    "colab": {
     "base_uri": "https://localhost:8080/"
    },
    "id": "iKtR27kZc8fg",
    "outputId": "9dda235c-9350-487c-9747-fe12a145e849"
   },
   "outputs": [
    {
     "name": "stdout",
     "output_type": "stream",
     "text": [
      "Accuarcy test set\n",
      "              precision    recall  f1-score   support\n",
      "\n",
      "           0       0.90      0.90      0.90       216\n",
      "           1       0.90      0.90      0.90       216\n",
      "\n",
      "    accuracy                           0.90       432\n",
      "   macro avg       0.90      0.90      0.90       432\n",
      "weighted avg       0.90      0.90      0.90       432\n",
      "\n"
     ]
    }
   ],
   "source": [
    "print('Accuarcy test set')\n",
    "print(classification_report(y_test_m1, test_pred_dt))"
   ]
  },
  {
   "cell_type": "code",
   "execution_count": 19,
   "id": "e1d174d2",
   "metadata": {},
   "outputs": [
    {
     "data": {
      "image/png": "[encoded data removed]",
      "text/plain": [
       "<Figure size 640x480 with 2 Axes>"
      ]
     },
     "metadata": {},
     "output_type": "display_data"
    }
   ],
   "source": [
    "plot_confusion_matrix(dt, x_test_m1, y_test_m1)\n",
    "plt.show() "
   ]
  },
  {
   "cell_type": "code",
   "execution_count": 20,
   "id": "RJxeZooI677y",
   "metadata": {
    "id": "RJxeZooI677y"
   },
   "outputs": [],
   "source": [
    "results.append(('DecisionTreeClassifier monk-1 train', accuracy_score(y_train_m1, train_pred_dt)))\n",
    "results.append(('DecisionTreeClassifier monk-1 validation', dt_cv_m1.best_score_))\n",
    "results.append(('DecisionTreeClassifier monk-1 test', accuracy_score(y_test_m1, test_pred_dt)))"
   ]
  },
  {
   "attachments": {},
   "cell_type": "markdown",
   "id": "c8804a8c",
   "metadata": {},
   "source": [
    "## DecisionTreeClassifier monk-2"
   ]
  },
  {
   "attachments": {},
   "cell_type": "markdown",
   "id": "db1380bf",
   "metadata": {},
   "source": [
    "### Grid search for parameter setting \n"
   ]
  },
  {
   "cell_type": "code",
   "execution_count": 21,
   "id": "376eeabe",
   "metadata": {},
   "outputs": [],
   "source": [
    "params = { \n",
    "     'criterion': ['gini', 'entropy', 'log_loss'],\n",
    "     #'splitter' : ['best', 'random'],\n",
    "     'max_depth': [None, 30, 40, 50, 80, 100], #40, 50, 100], 10, 20,\n",
    "     'min_samples_split': [2, 5, 10, 20, 40, 50, 80],\n",
    "     'min_samples_leaf': [1, 5, 10, 30, 50, 80], #30], \n",
    "     'min_weight_fraction_leaf': [0.0, 0.1, 0.01, 0.001],\n",
    "     #'max_features':['auto', 'sqrt', 'log2'],\n",
    "     'ccp_alpha': [0.0, 0.1, 0.01, 0.001], \n",
    "     'max_leaf_nodes': [None, 5, 10, 20, 40, 70, 100], #80],\n",
    "     'class_weight': [None, 'balanced'] \n",
    "}"
   ]
  },
  {
   "cell_type": "code",
   "execution_count": 22,
   "id": "8c7c7bd2",
   "metadata": {},
   "outputs": [
    {
     "name": "stdout",
     "output_type": "stream",
     "text": [
      "Fitting 5 folds for each of 169344 candidates, totalling 846720 fits\n"
     ]
    },
    {
     "data": {
      "text/plain": [
       "GridSearchCV(cv=5, estimator=DecisionTreeClassifier(), n_jobs=-1,\n",
       "             param_grid={'ccp_alpha': [0.0, 0.1, 0.01, 0.001],\n",
       "                         'class_weight': [None, 'balanced'],\n",
       "                         'criterion': ['gini', 'entropy', 'log_loss'],\n",
       "                         'max_depth': [None, 30, 40, 50, 80, 100],\n",
       "                         'max_leaf_nodes': [None, 5, 10, 20, 40, 70, 100],\n",
       "                         'min_samples_leaf': [1, 5, 10, 30, 50, 80],\n",
       "                         'min_samples_split': [2, 5, 10, 20, 40, 50, 80],\n",
       "                         'min_weight_fraction_leaf': [0.0, 0.1, 0.01, 0.001]},\n",
       "             scoring='accuracy', verbose=4)"
      ]
     },
     "execution_count": 22,
     "metadata": {},
     "output_type": "execute_result"
    }
   ],
   "source": [
    "#hyperparameter tuning with grid search CV\n",
    "n_jobs_search = -1\n",
    "dt_search = DecisionTreeClassifier()\n",
    "#kfold = KFold(n_splits=5)\n",
    "\n",
    "dt_cv_m2 = GridSearchCV(estimator=dt_search, param_grid=params, scoring='accuracy', cv=5, verbose=4, n_jobs=n_jobs_search) \n",
    "dt_cv_m2.fit(x_train_m2, y_train_m2)"
   ]
  },
  {
   "cell_type": "code",
   "execution_count": 23,
   "id": "bc724b5d",
   "metadata": {},
   "outputs": [
    {
     "data": {
      "text/plain": [
       "{'ccp_alpha': 0.01,\n",
       " 'class_weight': None,\n",
       " 'criterion': 'entropy',\n",
       " 'max_depth': 100,\n",
       " 'max_leaf_nodes': 100,\n",
       " 'min_samples_leaf': 1,\n",
       " 'min_samples_split': 2,\n",
       " 'min_weight_fraction_leaf': 0.0}"
      ]
     },
     "execution_count": 23,
     "metadata": {},
     "output_type": "execute_result"
    }
   ],
   "source": [
    "dt_cv_m2.best_params_"
   ]
  },
  {
   "cell_type": "code",
   "execution_count": 24,
   "id": "932c1904",
   "metadata": {},
   "outputs": [
    {
     "data": {
      "text/plain": [
       "0.6873440285204991"
      ]
     },
     "execution_count": 24,
     "metadata": {},
     "output_type": "execute_result"
    }
   ],
   "source": [
    "# validation\n",
    "dt_cv_m2.best_score_"
   ]
  },
  {
   "cell_type": "code",
   "execution_count": 25,
   "id": "64f3bcf6",
   "metadata": {},
   "outputs": [
    {
     "data": {
      "text/plain": [
       "['monk_models/dt_m2.z']"
      ]
     },
     "execution_count": 25,
     "metadata": {},
     "output_type": "execute_result"
    }
   ],
   "source": [
    "# save the model to disk\n",
    "joblib.dump(dt_cv_m2.best_estimator_, 'monk_models/dt_m2.z')"
   ]
  },
  {
   "attachments": {},
   "cell_type": "markdown",
   "id": "b44bfcb0-671a-40b2-9b88-95c6ab1eeed5",
   "metadata": {
    "tags": []
   },
   "source": [
    "### Validation plot"
   ]
  },
  {
   "cell_type": "code",
   "execution_count": 26,
   "id": "7fe5b080-39cb-47cd-b19f-39aa5d4e96ff",
   "metadata": {
    "tags": []
   },
   "outputs": [
    {
     "data": {
      "image/png": "[encoded data removed]",
      "text/plain": [
       "<Figure size 640x480 with 1 Axes>"
      ]
     },
     "metadata": {},
     "output_type": "display_data"
    }
   ],
   "source": [
    "param_range =  [2, 5, 10, 20, 40, 50, 80]\n",
    "\n",
    "train_scores, test_scores = validation_curve(\n",
    "    DecisionTreeClassifier(ccp_alpha=0.01,\n",
    "                            class_weight=None,\n",
    "                            criterion='log_loss',\n",
    "                            max_depth=40,\n",
    "                            max_leaf_nodes=None,\n",
    "                            min_samples_leaf=1,\n",
    "                            #min_samples_split=2,\n",
    "                            min_weight_fraction_leaf=0.001),\n",
    "                            #splitter='best'),\n",
    "    x_train_m2,\n",
    "    y_train_m2,\n",
    "    param_name=\"min_samples_split\",\n",
    "    param_range=param_range,\n",
    "    scoring='accuracy',\n",
    "    n_jobs=2\n",
    ")\n",
    "\n",
    "train_scores_mean = np.mean(train_scores, axis=1)\n",
    "train_scores_std = np.std(train_scores, axis=1)\n",
    "test_scores_mean = np.mean(test_scores, axis=1)\n",
    "test_scores_std = np.std(test_scores, axis=1)\n",
    "\n",
    "plt.title(\"Validation Curve with DTC\")\n",
    "plt.xlabel(\"min_samples_split\")\n",
    "plt.ylabel(\"Score\")\n",
    "\n",
    "plt.ylim(0.0, 1.1)\n",
    "\n",
    "lw = 2\n",
    "plt.semilogx(\n",
    "    param_range, train_scores_mean, label=\"Training score\", color=\"darkorange\", lw=lw\n",
    ")\n",
    "\n",
    "plt.fill_between(\n",
    "    param_range,\n",
    "    train_scores_mean - train_scores_std,\n",
    "    train_scores_mean + train_scores_std,\n",
    "    alpha=0.2,\n",
    "    color=\"darkorange\",\n",
    "    lw=lw,\n",
    ")\n",
    "\n",
    "plt.semilogx(\n",
    "    param_range, test_scores_mean, label=\"Cross-validation score\", color=\"navy\", lw=lw\n",
    ")\n",
    "\n",
    "plt.fill_between(\n",
    "    param_range,\n",
    "    test_scores_mean - test_scores_std,\n",
    "    test_scores_mean + test_scores_std,\n",
    "    alpha=0.2,\n",
    "    color=\"navy\",\n",
    "    lw=lw\n",
    ")\n",
    "\n",
    "plt.legend(loc=\"best\")\n",
    "\n",
    "plt.show()"
   ]
  },
  {
   "attachments": {},
   "cell_type": "markdown",
   "id": "87c2cea2-6b7d-4121-8967-f6f928c1de8d",
   "metadata": {
    "id": "ELqwTyDW677x"
   },
   "source": [
    "### Final model"
   ]
  },
  {
   "cell_type": "code",
   "execution_count": 27,
   "id": "0a723eec",
   "metadata": {},
   "outputs": [],
   "source": [
    "dt = joblib.load('monk_models/dt_m2.z')"
   ]
  },
  {
   "cell_type": "code",
   "execution_count": 28,
   "id": "82a344d8",
   "metadata": {},
   "outputs": [
    {
     "data": {
      "text/plain": [
       "DecisionTreeClassifier(ccp_alpha=0.01, criterion='entropy', max_depth=100,\n",
       "                       max_leaf_nodes=100)"
      ]
     },
     "execution_count": 28,
     "metadata": {},
     "output_type": "execute_result"
    }
   ],
   "source": [
    "dt"
   ]
  },
  {
   "cell_type": "code",
   "execution_count": 29,
   "id": "f01f00a0",
   "metadata": {},
   "outputs": [],
   "source": [
    "train_pred_dt = dt.predict(x_train_m2)"
   ]
  },
  {
   "cell_type": "code",
   "execution_count": 30,
   "id": "7662d497",
   "metadata": {},
   "outputs": [
    {
     "name": "stdout",
     "output_type": "stream",
     "text": [
      "Accuracy train set\n",
      "              precision    recall  f1-score   support\n",
      "\n",
      "           0       0.99      1.00      1.00       105\n",
      "           1       1.00      0.98      0.99        64\n",
      "\n",
      "    accuracy                           0.99       169\n",
      "   macro avg       1.00      0.99      0.99       169\n",
      "weighted avg       0.99      0.99      0.99       169\n",
      "\n"
     ]
    }
   ],
   "source": [
    "print('Accuracy train set')\n",
    "print(classification_report(y_train_m2, train_pred_dt))"
   ]
  },
  {
   "cell_type": "code",
   "execution_count": 31,
   "id": "41f04e3e",
   "metadata": {},
   "outputs": [],
   "source": [
    "test_pred_dt = dt.predict(x_test_m2)"
   ]
  },
  {
   "cell_type": "code",
   "execution_count": 32,
   "id": "18b97ce1",
   "metadata": {},
   "outputs": [
    {
     "name": "stdout",
     "output_type": "stream",
     "text": [
      "Accuarcy test set\n",
      "              precision    recall  f1-score   support\n",
      "\n",
      "           0       0.93      0.87      0.89       290\n",
      "           1       0.76      0.86      0.81       142\n",
      "\n",
      "    accuracy                           0.86       432\n",
      "   macro avg       0.84      0.86      0.85       432\n",
      "weighted avg       0.87      0.86      0.87       432\n",
      "\n"
     ]
    }
   ],
   "source": [
    "print('Accuarcy test set')\n",
    "print(classification_report(y_test_m2, test_pred_dt))"
   ]
  },
  {
   "cell_type": "code",
   "execution_count": 33,
   "id": "eb568619",
   "metadata": {},
   "outputs": [
    {
     "data": {
      "image/png": "[encoded data removed]",
      "text/plain": [
       "<Figure size 640x480 with 2 Axes>"
      ]
     },
     "metadata": {},
     "output_type": "display_data"
    }
   ],
   "source": [
    "plot_confusion_matrix(dt, x_test_m2, y_test_m2)\n",
    "plt.show() "
   ]
  },
  {
   "cell_type": "code",
   "execution_count": 34,
   "id": "d176dfcc",
   "metadata": {},
   "outputs": [],
   "source": [
    "results.append(('DecisionTreeClassifier monk-2 train', accuracy_score(y_train_m2, train_pred_dt)))\n",
    "results.append(('DecisionTreeClassifier monk-2 validation', dt_cv_m2.best_score_))\n",
    "results.append(('DecisionTreeClassifier monk-2 test', accuracy_score(y_test_m2, test_pred_dt)))"
   ]
  },
  {
   "attachments": {},
   "cell_type": "markdown",
   "id": "18daaf5b",
   "metadata": {},
   "source": [
    "## DecisionTreeClassifier monk-3"
   ]
  },
  {
   "attachments": {},
   "cell_type": "markdown",
   "id": "ea4fd9bc",
   "metadata": {},
   "source": [
    "### Grid search for parameter setting \n"
   ]
  },
  {
   "cell_type": "code",
   "execution_count": 35,
   "id": "30e39611",
   "metadata": {},
   "outputs": [],
   "source": [
    "params = { \n",
    "     'criterion': ['gini', 'entropy', 'log_loss'],\n",
    "     #'splitter' : ['best', 'random'],\n",
    "     'max_depth': [None, 5, 10, 20, 30, 40, 50], #40, 50, 100],\n",
    "     'min_samples_split': [2, 5, 10, 20, 40, 50, 80],\n",
    "     'min_samples_leaf': [1, 5, 10, 20, 30], \n",
    "     'min_weight_fraction_leaf': [0.0, 0.1, 0.01, 0.001],\n",
    "     #'max_features':['auto', 'sqrt', 'log2'],\n",
    "     'ccp_alpha': [0.0, 0.1, 0.01], \n",
    "     'max_leaf_nodes': [None, 5, 10, 20, 30, 40, 80],\n",
    "     'class_weight': [None, 'balanced'] \n",
    "}"
   ]
  },
  {
   "cell_type": "code",
   "execution_count": 36,
   "id": "8f2c4d10",
   "metadata": {},
   "outputs": [
    {
     "name": "stdout",
     "output_type": "stream",
     "text": [
      "Fitting 5 folds for each of 123480 candidates, totalling 617400 fits\n"
     ]
    },
    {
     "data": {
      "text/plain": [
       "GridSearchCV(cv=5, estimator=DecisionTreeClassifier(), n_jobs=-1,\n",
       "             param_grid={'ccp_alpha': [0.0, 0.1, 0.01],\n",
       "                         'class_weight': [None, 'balanced'],\n",
       "                         'criterion': ['gini', 'entropy', 'log_loss'],\n",
       "                         'max_depth': [None, 5, 10, 20, 30, 40, 50],\n",
       "                         'max_leaf_nodes': [None, 5, 10, 20, 30, 40, 80],\n",
       "                         'min_samples_leaf': [1, 5, 10, 20, 30],\n",
       "                         'min_samples_split': [2, 5, 10, 20, 40, 50, 80],\n",
       "                         'min_weight_fraction_leaf': [0.0, 0.1, 0.01, 0.001]},\n",
       "             scoring='accuracy', verbose=4)"
      ]
     },
     "execution_count": 36,
     "metadata": {},
     "output_type": "execute_result"
    }
   ],
   "source": [
    "#hyperparameter tuning with grid search CV\n",
    "n_jobs_search = -1\n",
    "dt_search = DecisionTreeClassifier()\n",
    "\n",
    "dt_cv_m3 = GridSearchCV(estimator=dt_search, param_grid=params, scoring='accuracy', cv=5, verbose=4, n_jobs=n_jobs_search) \n",
    "dt_cv_m3.fit(x_train_m3, y_train_m3)"
   ]
  },
  {
   "cell_type": "code",
   "execution_count": 37,
   "id": "451563c5",
   "metadata": {},
   "outputs": [
    {
     "data": {
      "text/plain": [
       "{'ccp_alpha': 0.0,\n",
       " 'class_weight': 'balanced',\n",
       " 'criterion': 'entropy',\n",
       " 'max_depth': 10,\n",
       " 'max_leaf_nodes': 10,\n",
       " 'min_samples_leaf': 1,\n",
       " 'min_samples_split': 2,\n",
       " 'min_weight_fraction_leaf': 0.001}"
      ]
     },
     "execution_count": 37,
     "metadata": {},
     "output_type": "execute_result"
    }
   ],
   "source": [
    "dt_cv_m3.best_params_"
   ]
  },
  {
   "cell_type": "code",
   "execution_count": 38,
   "id": "50ba4227",
   "metadata": {},
   "outputs": [
    {
     "data": {
      "text/plain": [
       "0.9426666666666665"
      ]
     },
     "execution_count": 38,
     "metadata": {},
     "output_type": "execute_result"
    }
   ],
   "source": [
    "# validation\n",
    "dt_cv_m3.best_score_"
   ]
  },
  {
   "cell_type": "code",
   "execution_count": 39,
   "id": "dab01758",
   "metadata": {},
   "outputs": [
    {
     "data": {
      "text/plain": [
       "['monk_models/dt_m3.z']"
      ]
     },
     "execution_count": 39,
     "metadata": {},
     "output_type": "execute_result"
    }
   ],
   "source": [
    "# save the model to disk\n",
    "joblib.dump(dt_cv_m3.best_estimator_, 'monk_models/dt_m3.z')"
   ]
  },
  {
   "attachments": {},
   "cell_type": "markdown",
   "id": "a95cbe74-9a26-4731-8484-32d1217278c7",
   "metadata": {
    "tags": []
   },
   "source": [
    "### Validation plot"
   ]
  },
  {
   "cell_type": "code",
   "execution_count": 40,
   "id": "e524be3e-d943-4443-bdec-5736d2881d0a",
   "metadata": {
    "tags": []
   },
   "outputs": [
    {
     "data": {
      "image/png": "[encoded data removed]",
      "text/plain": [
       "<Figure size 640x480 with 1 Axes>"
      ]
     },
     "metadata": {},
     "output_type": "display_data"
    }
   ],
   "source": [
    "param_range =  [2, 5, 10, 15, 20]\n",
    "\n",
    "train_scores, test_scores = validation_curve(\n",
    "    DecisionTreeClassifier(ccp_alpha=0.0,\n",
    "                           class_weight='balanced',\n",
    "                           criterion='entropy',\n",
    "                           max_depth=50,\n",
    "                           max_leaf_nodes=10,\n",
    "                           min_samples_leaf=1,\n",
    "                           #min_samples_split=2,\n",
    "                           min_weight_fraction_leaf=0.0),\n",
    "                           #splitter='best'),\n",
    "    x_train_m3,\n",
    "    y_train_m3,\n",
    "    param_name=\"min_samples_split\",\n",
    "    param_range=param_range,\n",
    "    scoring='accuracy',\n",
    "    n_jobs=2\n",
    ")\n",
    "\n",
    "train_scores_mean = np.mean(train_scores, axis=1)\n",
    "train_scores_std = np.std(train_scores, axis=1)\n",
    "test_scores_mean = np.mean(test_scores, axis=1)\n",
    "test_scores_std = np.std(test_scores, axis=1)\n",
    "\n",
    "plt.title(\"Validation Curve with DTC\")\n",
    "plt.xlabel(\"min_samples_split\")\n",
    "plt.ylabel(\"Score\")\n",
    "\n",
    "plt.ylim(0.7, 1.1)\n",
    "\n",
    "lw = 2\n",
    "plt.semilogx(\n",
    "    param_range, train_scores_mean, label=\"Training score\", color=\"darkorange\", lw=lw\n",
    ")\n",
    "\n",
    "plt.fill_between(\n",
    "    param_range,\n",
    "    train_scores_mean - train_scores_std,\n",
    "    train_scores_mean + train_scores_std,\n",
    "    alpha=0.2,\n",
    "    color=\"darkorange\",\n",
    "    lw=lw,\n",
    ")\n",
    "\n",
    "plt.semilogx(\n",
    "    param_range, test_scores_mean, label=\"Cross-validation score\", color=\"navy\", lw=lw\n",
    ")\n",
    "\n",
    "plt.fill_between(\n",
    "    param_range,\n",
    "    test_scores_mean - test_scores_std,\n",
    "    test_scores_mean + test_scores_std,\n",
    "    alpha=0.2,\n",
    "    color=\"navy\",\n",
    "    lw=lw\n",
    ")\n",
    "\n",
    "plt.legend(loc=\"best\")\n",
    "\n",
    "plt.show()"
   ]
  },
  {
   "attachments": {},
   "cell_type": "markdown",
   "id": "18f1ee73",
   "metadata": {},
   "source": [
    "### Final model"
   ]
  },
  {
   "cell_type": "code",
   "execution_count": 41,
   "id": "4df08f34",
   "metadata": {},
   "outputs": [],
   "source": [
    "dt = joblib.load('monk_models/dt_m3.z')"
   ]
  },
  {
   "cell_type": "code",
   "execution_count": 42,
   "id": "47c05cb2",
   "metadata": {},
   "outputs": [
    {
     "data": {
      "text/plain": [
       "DecisionTreeClassifier(class_weight='balanced', criterion='entropy',\n",
       "                       max_depth=10, max_leaf_nodes=10,\n",
       "                       min_weight_fraction_leaf=0.001)"
      ]
     },
     "execution_count": 42,
     "metadata": {},
     "output_type": "execute_result"
    }
   ],
   "source": [
    "dt"
   ]
  },
  {
   "cell_type": "code",
   "execution_count": 43,
   "id": "90c4d940",
   "metadata": {},
   "outputs": [],
   "source": [
    "train_pred_dt = dt.predict(x_train_m3)"
   ]
  },
  {
   "cell_type": "code",
   "execution_count": 44,
   "id": "fd3331d7",
   "metadata": {},
   "outputs": [
    {
     "name": "stdout",
     "output_type": "stream",
     "text": [
      "Accuracy train set\n",
      "              precision    recall  f1-score   support\n",
      "\n",
      "           0       1.00      0.92      0.96        62\n",
      "           1       0.92      1.00      0.96        60\n",
      "\n",
      "    accuracy                           0.96       122\n",
      "   macro avg       0.96      0.96      0.96       122\n",
      "weighted avg       0.96      0.96      0.96       122\n",
      "\n"
     ]
    }
   ],
   "source": [
    "print('Accuracy train set')\n",
    "print(classification_report(y_train_m3, train_pred_dt))"
   ]
  },
  {
   "cell_type": "code",
   "execution_count": 45,
   "id": "e891e778",
   "metadata": {},
   "outputs": [],
   "source": [
    "test_pred_dt = dt.predict(x_test_m3)"
   ]
  },
  {
   "cell_type": "code",
   "execution_count": 46,
   "id": "75ad4f8f",
   "metadata": {},
   "outputs": [
    {
     "name": "stdout",
     "output_type": "stream",
     "text": [
      "Accuarcy test set\n",
      "              precision    recall  f1-score   support\n",
      "\n",
      "           0       0.96      0.94      0.95       204\n",
      "           1       0.95      0.96      0.96       228\n",
      "\n",
      "    accuracy                           0.95       432\n",
      "   macro avg       0.95      0.95      0.95       432\n",
      "weighted avg       0.95      0.95      0.95       432\n",
      "\n"
     ]
    }
   ],
   "source": [
    "print('Accuarcy test set')\n",
    "print(classification_report(y_test_m3, test_pred_dt))"
   ]
  },
  {
   "cell_type": "code",
   "execution_count": 47,
   "id": "2b8e255b",
   "metadata": {},
   "outputs": [
    {
     "data": {
      "image/png": "[encoded data removed]",
      "text/plain": [
       "<Figure size 640x480 with 2 Axes>"
      ]
     },
     "metadata": {},
     "output_type": "display_data"
    }
   ],
   "source": [
    "plot_confusion_matrix(dt, x_test_m3, y_test_m3)\n",
    "plt.show() "
   ]
  },
  {
   "cell_type": "code",
   "execution_count": 48,
   "id": "b4ee7b46",
   "metadata": {},
   "outputs": [],
   "source": [
    "results.append(('DecisionTreeClassifier monk-3 train', accuracy_score(y_train_m3, train_pred_dt)))\n",
    "results.append(('DecisionTreeClassifier monk-3 validation', dt_cv_m3.best_score_))\n",
    "results.append(('DecisionTreeClassifier monk-3 test', accuracy_score(y_test_m3, test_pred_dt)))"
   ]
  },
  {
   "attachments": {},
   "cell_type": "markdown",
   "id": "e03b9a67",
   "metadata": {},
   "source": [
    "# Summary"
   ]
  },
  {
   "cell_type": "code",
   "execution_count": 49,
   "id": "RjhdgQJc-K05",
   "metadata": {
    "colab": {
     "base_uri": "https://localhost:8080/"
    },
    "id": "RjhdgQJc-K05",
    "outputId": "2f97f20b-73df-4ee4-d566-95e75fc54d6b"
   },
   "outputs": [
    {
     "name": "stdout",
     "output_type": "stream",
     "text": [
      "('DecisionTreeClassifier monk-1 train', 0.967741935483871)\n",
      "('DecisionTreeClassifier monk-1 validation', 0.8949999999999999)\n",
      "('DecisionTreeClassifier monk-1 test', 0.8981481481481481)\n",
      "('DecisionTreeClassifier monk-2 train', 0.9940828402366864)\n",
      "('DecisionTreeClassifier monk-2 validation', 0.6873440285204991)\n",
      "('DecisionTreeClassifier monk-2 test', 0.8634259259259259)\n",
      "('DecisionTreeClassifier monk-3 train', 0.9590163934426229)\n",
      "('DecisionTreeClassifier monk-3 validation', 0.9426666666666665)\n",
      "('DecisionTreeClassifier monk-3 test', 0.9537037037037037)\n"
     ]
    }
   ],
   "source": [
    "for i in range(len(results)):\n",
    "  print(results[i])"
   ]
  }
 ],
 "metadata": {
  "colab": {
   "collapsed_sections": [
    "FflMaBASVxvy",
    "KXzNMXm7fl9u"
   ],
   "provenance": []
  },
  "kernelspec": {
   "display_name": "Python 3",
   "language": "python",
   "name": "python3"
  },
  "language_info": {
   "codemirror_mode": {
    "name": "ipython",
    "version": 3
   },
   "file_extension": ".py",
   "mimetype": "text/x-python",
   "name": "python",
   "nbconvert_exporter": "python",
   "pygments_lexer": "ipython3",
   "version": "3.11.0"
  },
  "vscode": {
   "interpreter": {
    "hash": "25ac610e9174fa160c0cdbe0563a2bda541028b128e4230f5f3630bf9b9c363a"
   }
  }
 },
 "nbformat": 4,
 "nbformat_minor": 5
}
