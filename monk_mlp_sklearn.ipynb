{
 "cells": [
  {
   "attachments": {},
   "cell_type": "markdown",
   "id": "FflMaBASVxvy",
   "metadata": {
    "id": "FflMaBASVxvy"
   },
   "source": [
    "# Libraries"
   ]
  },
  {
   "cell_type": "code",
   "execution_count": 1,
   "id": "9cee1af2",
   "metadata": {
    "id": "9cee1af2"
   },
   "outputs": [],
   "source": [
    "%matplotlib inline\n",
    "import numpy as np\n",
    "import pandas as pd\n",
    "import matplotlib\n",
    "import matplotlib.pyplot as plt\n",
    "import seaborn as sns\n",
    "import joblib"
   ]
  },
  {
   "cell_type": "code",
   "execution_count": 2,
   "id": "4l97cS3Bfe7H",
   "metadata": {
    "colab": {
     "base_uri": "https://localhost:8080/"
    },
    "id": "4l97cS3Bfe7H",
    "outputId": "372d042d-6ad0-4f2e-b8ab-21efc6a23b25"
   },
   "outputs": [
    {
     "name": "stdout",
     "output_type": "stream",
     "text": [
      "<class 'pandas.core.frame.DataFrame'>\n",
      "Index: 124 entries, data_5 to data_432\n",
      "Data columns (total 7 columns):\n",
      " #   Column  Non-Null Count  Dtype\n",
      "---  ------  --------------  -----\n",
      " 0   class   124 non-null    int64\n",
      " 1   a1      124 non-null    int64\n",
      " 2   a2      124 non-null    int64\n",
      " 3   a3      124 non-null    int64\n",
      " 4   a4      124 non-null    int64\n",
      " 5   a5      124 non-null    int64\n",
      " 6   a6      124 non-null    int64\n",
      "dtypes: int64(7)\n",
      "memory usage: 7.8+ KB\n",
      "<class 'pandas.core.frame.DataFrame'>\n",
      "Index: 432 entries, data_1 to data_432\n",
      "Data columns (total 7 columns):\n",
      " #   Column  Non-Null Count  Dtype\n",
      "---  ------  --------------  -----\n",
      " 0   class   432 non-null    int64\n",
      " 1   a1      432 non-null    int64\n",
      " 2   a2      432 non-null    int64\n",
      " 3   a3      432 non-null    int64\n",
      " 4   a4      432 non-null    int64\n",
      " 5   a5      432 non-null    int64\n",
      " 6   a6      432 non-null    int64\n",
      "dtypes: int64(7)\n",
      "memory usage: 27.0+ KB\n",
      "Shapes before encoding:\n",
      "x_train_m1 (124, 6)\n",
      "y_train_m1 (124,)\n",
      "x_test_m1 (432, 6)\n",
      "y_test_m1 (432,)\n",
      "Shapes after encoding:\n",
      "x_train_m1 (124, 17)\n",
      "y_train_m1 (124,)\n",
      "x_test_m1 (432, 17)\n",
      "y_test_m1 (432,)\n",
      "<class 'pandas.core.frame.DataFrame'>\n",
      "Index: 169 entries, data_4 to data_432\n",
      "Data columns (total 7 columns):\n",
      " #   Column  Non-Null Count  Dtype\n",
      "---  ------  --------------  -----\n",
      " 0   class   169 non-null    int64\n",
      " 1   a1      169 non-null    int64\n",
      " 2   a2      169 non-null    int64\n",
      " 3   a3      169 non-null    int64\n",
      " 4   a4      169 non-null    int64\n",
      " 5   a5      169 non-null    int64\n",
      " 6   a6      169 non-null    int64\n",
      "dtypes: int64(7)\n",
      "memory usage: 10.6+ KB\n",
      "<class 'pandas.core.frame.DataFrame'>\n",
      "Index: 432 entries, data_1 to data_432\n",
      "Data columns (total 7 columns):\n",
      " #   Column  Non-Null Count  Dtype\n",
      "---  ------  --------------  -----\n",
      " 0   class   432 non-null    int64\n",
      " 1   a1      432 non-null    int64\n",
      " 2   a2      432 non-null    int64\n",
      " 3   a3      432 non-null    int64\n",
      " 4   a4      432 non-null    int64\n",
      " 5   a5      432 non-null    int64\n",
      " 6   a6      432 non-null    int64\n",
      "dtypes: int64(7)\n",
      "memory usage: 27.0+ KB\n",
      "Shapes before encoding:\n",
      "x_train_m2 (169, 6)\n",
      "y_train_m2 (169,)\n",
      "x_test_m2 (432, 6)\n",
      "y_test_m2 (432,)\n",
      "Shapes after encoding:\n",
      "x_train_m2 (169, 17)\n",
      "y_train_m2 (169,)\n",
      "x_test_m2 (432, 17)\n",
      "y_test_m2 (432,)\n",
      "<class 'pandas.core.frame.DataFrame'>\n",
      "Index: 122 entries, data_2 to data_432\n",
      "Data columns (total 7 columns):\n",
      " #   Column  Non-Null Count  Dtype\n",
      "---  ------  --------------  -----\n",
      " 0   class   122 non-null    int64\n",
      " 1   a1      122 non-null    int64\n",
      " 2   a2      122 non-null    int64\n",
      " 3   a3      122 non-null    int64\n",
      " 4   a4      122 non-null    int64\n",
      " 5   a5      122 non-null    int64\n",
      " 6   a6      122 non-null    int64\n",
      "dtypes: int64(7)\n",
      "memory usage: 7.6+ KB\n",
      "<class 'pandas.core.frame.DataFrame'>\n",
      "Index: 432 entries, data_1 to data_432\n",
      "Data columns (total 7 columns):\n",
      " #   Column  Non-Null Count  Dtype\n",
      "---  ------  --------------  -----\n",
      " 0   class   432 non-null    int64\n",
      " 1   a1      432 non-null    int64\n",
      " 2   a2      432 non-null    int64\n",
      " 3   a3      432 non-null    int64\n",
      " 4   a4      432 non-null    int64\n",
      " 5   a5      432 non-null    int64\n",
      " 6   a6      432 non-null    int64\n",
      "dtypes: int64(7)\n",
      "memory usage: 27.0+ KB\n",
      "Shapes before encoding:\n",
      "x_train_m3 (122, 6)\n",
      "y_train_m3 (122,)\n",
      "x_test_m3 (432, 6)\n",
      "y_test_m3 (432,)\n",
      "Shapes after encoding:\n",
      "x_train_m3 (122, 17)\n",
      "y_train_m3 (122,)\n",
      "x_test_m3 (432, 17)\n",
      "y_test_m3 (432,)\n"
     ]
    }
   ],
   "source": [
    "from set_extraction_monks import x_train_m1, y_train_m1, x_test_m1, y_test_m1, x_train_m2, y_train_m2, x_test_m2, y_test_m2, x_train_m3, y_train_m3, x_test_m3, y_test_m3"
   ]
  },
  {
   "attachments": {},
   "cell_type": "markdown",
   "id": "KXzNMXm7fl9u",
   "metadata": {
    "id": "KXzNMXm7fl9u"
   },
   "source": [
    "# Models"
   ]
  },
  {
   "cell_type": "code",
   "execution_count": 3,
   "id": "E5agkfWn-eyF",
   "metadata": {
    "id": "E5agkfWn-eyF"
   },
   "outputs": [],
   "source": [
    "from sklearn.model_selection import KFold\n",
    "\n",
    "from sklearn.model_selection import GridSearchCV\n",
    "\n",
    "from sklearn.neural_network import MLPClassifier\n",
    "\n",
    "from sklearn.metrics import classification_report, accuracy_score, plot_confusion_matrix\n",
    "from time import time"
   ]
  },
  {
   "cell_type": "code",
   "execution_count": 4,
   "id": "025985b3",
   "metadata": {},
   "outputs": [],
   "source": [
    "import warnings\n",
    "warnings.filterwarnings('ignore')"
   ]
  },
  {
   "cell_type": "code",
   "execution_count": 5,
   "id": "ccwrcVaEK-dl",
   "metadata": {
    "id": "ccwrcVaEK-dl"
   },
   "outputs": [],
   "source": [
    "#def MEE(actual, predict):\n",
    "#   return np.mean(np.linalg.norm(actual - predict, axis=1))\n",
    "    "
   ]
  },
  {
   "cell_type": "code",
   "execution_count": 6,
   "id": "cfdGUBFEyfvk",
   "metadata": {
    "id": "cfdGUBFEyfvk"
   },
   "outputs": [],
   "source": [
    "results = []"
   ]
  },
  {
   "attachments": {},
   "cell_type": "markdown",
   "id": "_Y6JFQ65SXmK",
   "metadata": {
    "id": "_Y6JFQ65SXmK"
   },
   "source": [
    "# Neural Networks"
   ]
  },
  {
   "attachments": {},
   "cell_type": "markdown",
   "id": "JEaPt-yI6RFQ",
   "metadata": {
    "id": "JEaPt-yI6RFQ"
   },
   "source": [
    "## MLPClassifier - monk 1"
   ]
  },
  {
   "attachments": {},
   "cell_type": "markdown",
   "id": "ehMUncyO677v",
   "metadata": {
    "id": "ehMUncyO677v"
   },
   "source": [
    "### Grid search for parameter setting \n"
   ]
  },
  {
   "cell_type": "code",
   "execution_count": 7,
   "id": "GBKjijjF677w",
   "metadata": {
    "id": "GBKjijjF677w"
   },
   "outputs": [],
   "source": [
    "params = {  \n",
    "    'hidden_layer_sizes': [(5,), (5,5,), (5,5,5,), (4,), (4,4,), (4,4,4,), (3,), (3,3,), (3,3,3,), (2,), (2,2,), (2,2,2,)],\n",
    "    'activation': ['tanh', 'relu'], \n",
    "    'solver': ['sgd'],\n",
    "    'learning_rate_init':  [0.5, 0.7, 0.9], #0.001, 0.01,\n",
    "    #'learning_rate': ['constant', 'invscaling', 'adaptive'], #added now\n",
    "    'momentum': [0.5, 0.7, 0.9], #[0.0, 0.01, 0.1], \n",
    "    #'alpha': [0], #0.001, 0.01, 0.05, 0.1],\n",
    "    'n_iter_no_change': [20],\n",
    "    'tol': [0]\n",
    "    #'batch_size': [16]\n",
    "}"
   ]
  },
  {
   "cell_type": "code",
   "execution_count": 8,
   "id": "YBP5U1vt677w",
   "metadata": {
    "id": "YBP5U1vt677w"
   },
   "outputs": [
    {
     "name": "stdout",
     "output_type": "stream",
     "text": [
      "Fitting 5 folds for each of 216 candidates, totalling 1080 fits\n",
      "time for grid search = 22 sec\n"
     ]
    }
   ],
   "source": [
    "#hyperparameter tuning with grid search CV\n",
    "n_jobs_search = -1\n",
    "\n",
    "start=time()\n",
    "\n",
    "mlp_search = MLPClassifier(early_stopping=True, random_state=42, max_iter=500, validation_fraction=0.2, nesterovs_momentum=False)\n",
    "\n",
    "mlp_cv_m1 = GridSearchCV(estimator=mlp_search, param_grid=params, scoring='accuracy', \n",
    "                      cv=5, verbose=4, n_jobs=n_jobs_search) \n",
    "mlp_cv_m1.fit(x_train_m1, y_train_m1)\n",
    "\n",
    "print('time for grid search = {:.0f} sec'.format(time()-start))"
   ]
  },
  {
   "cell_type": "code",
   "execution_count": 9,
   "id": "ws_WYPgj677x",
   "metadata": {
    "colab": {
     "base_uri": "https://localhost:8080/"
    },
    "id": "ws_WYPgj677x",
    "outputId": "5feccafe-f70d-4e0f-8b46-4962a49d132b"
   },
   "outputs": [
    {
     "data": {
      "text/plain": [
       "{'activation': 'tanh',\n",
       " 'hidden_layer_sizes': (4, 4, 4),\n",
       " 'learning_rate_init': 0.5,\n",
       " 'momentum': 0.7,\n",
       " 'n_iter_no_change': 20,\n",
       " 'solver': 'sgd',\n",
       " 'tol': 0}"
      ]
     },
     "execution_count": 9,
     "metadata": {},
     "output_type": "execute_result"
    }
   ],
   "source": [
    "mlp_cv_m1.best_params_"
   ]
  },
  {
   "cell_type": "code",
   "execution_count": 10,
   "id": "tdrDU0z4677x",
   "metadata": {
    "colab": {
     "base_uri": "https://localhost:8080/"
    },
    "id": "tdrDU0z4677x",
    "outputId": "d95ee9a0-e311-4b00-8a40-4ce1358ff0b7"
   },
   "outputs": [
    {
     "data": {
      "text/plain": [
       "0.968"
      ]
     },
     "execution_count": 10,
     "metadata": {},
     "output_type": "execute_result"
    }
   ],
   "source": [
    "# validation\n",
    "mlp_cv_m1.best_score_"
   ]
  },
  {
   "cell_type": "code",
   "execution_count": 11,
   "id": "f1e76f40",
   "metadata": {},
   "outputs": [],
   "source": [
    "best_ep_est = np.argmin(mlp_cv_m1.best_estimator_.loss_curve_)+1"
   ]
  },
  {
   "cell_type": "code",
   "execution_count": 12,
   "id": "0c34d567",
   "metadata": {},
   "outputs": [
    {
     "data": {
      "text/plain": [
       "500"
      ]
     },
     "execution_count": 12,
     "metadata": {},
     "output_type": "execute_result"
    }
   ],
   "source": [
    "best_ep_est"
   ]
  },
  {
   "cell_type": "code",
   "execution_count": 13,
   "id": "5a6d5d81",
   "metadata": {},
   "outputs": [
    {
     "data": {
      "text/plain": [
       "<matplotlib.legend.Legend at 0x1e9ede9df50>"
      ]
     },
     "execution_count": 13,
     "metadata": {},
     "output_type": "execute_result"
    },
    {
     "data": {
      "image/png": "[encoded data removed]",
      "text/plain": [
       "<Figure size 2000x500 with 1 Axes>"
      ]
     },
     "metadata": {},
     "output_type": "display_data"
    }
   ],
   "source": [
    "#Loss plot\n",
    "plt.figure(figsize = (20,5))\n",
    "plt.plot(pd.DataFrame(mlp_cv_m1.best_estimator_.loss_curve_[0:best_ep_est]), label='Loss') \n",
    "#plt.plot(pd.DataFrame(mlp_cv_m1.best_estimator_.validation_scores_[0:best_ep_est]), label='accuracy', linestyle='dashed')       \n",
    "plt.xlabel('Epochs')\n",
    "plt.ylabel('Loss')\n",
    "#plt.ylim([0,5])\n",
    "plt.xticks(#np.arange(len(mlp_cv_m1.best_estimator_.loss_curve_[0:best_ep_est])), \n",
    "           np.arange(1, len(mlp_cv_m1.best_estimator_.loss_curve_[0:best_ep_est])+1, 50)) \n",
    "           #rotation=90)\n",
    "plt.legend(loc = 'upper right')"
   ]
  },
  {
   "cell_type": "code",
   "execution_count": 14,
   "id": "e80d46b5-9f5c-4a31-8044-ce7980d0e67a",
   "metadata": {},
   "outputs": [
    {
     "data": {
      "text/plain": [
       "<matplotlib.legend.Legend at 0x1e9ede47e10>"
      ]
     },
     "execution_count": 14,
     "metadata": {},
     "output_type": "execute_result"
    },
    {
     "data": {
      "image/png": "[encoded data removed]",
      "text/plain": [
       "<Figure size 2000x500 with 1 Axes>"
      ]
     },
     "metadata": {},
     "output_type": "display_data"
    }
   ],
   "source": [
    "#acc plot\n",
    "plt.figure(figsize = (20,5))\n",
    "#plt.plot(pd.DataFrame(mlp_cv_m1.best_estimator_.loss_curve_[0:best_ep_est]), label='Loss') \n",
    "plt.plot(pd.DataFrame(mlp_cv_m1.best_estimator_.validation_scores_[0:best_ep_est]), label='accuracy', linestyle='dashed')       \n",
    "plt.xlabel('Epochs')\n",
    "plt.ylabel('Loss')\n",
    "#plt.ylim([0,5])\n",
    "plt.xticks(#np.arange(len(mlp_cv_m1.best_estimator_.loss_curve_[0:best_ep_est])), \n",
    "           np.arange(1, len(mlp_cv_m1.best_estimator_.loss_curve_[0:best_ep_est])+1, 50)) \n",
    "           #rotation=90)\n",
    "plt.legend(loc = 'lower right')"
   ]
  },
  {
   "cell_type": "code",
   "execution_count": 15,
   "id": "c8d5933f-f259-455c-ae8e-c230a219a3a0",
   "metadata": {},
   "outputs": [
    {
     "data": {
      "text/plain": [
       "1.0"
      ]
     },
     "execution_count": 15,
     "metadata": {},
     "output_type": "execute_result"
    }
   ],
   "source": [
    "mlp_cv_m1.best_estimator_.best_validation_score_"
   ]
  },
  {
   "cell_type": "code",
   "execution_count": 16,
   "id": "e5d5f261",
   "metadata": {
    "id": "e5d5f261",
    "outputId": "7df56560-8de7-4df8-d31e-ec7e4f28db5f"
   },
   "outputs": [
    {
     "data": {
      "text/plain": [
       "['monk_models/mlp_m1.z']"
      ]
     },
     "execution_count": 16,
     "metadata": {},
     "output_type": "execute_result"
    }
   ],
   "source": [
    "# save the model to disk\n",
    "joblib.dump(mlp_cv_m1.best_estimator_, 'monk_models/mlp_m1.z')"
   ]
  },
  {
   "attachments": {},
   "cell_type": "markdown",
   "id": "ELqwTyDW677x",
   "metadata": {
    "id": "ELqwTyDW677x"
   },
   "source": [
    "### Final model"
   ]
  },
  {
   "cell_type": "code",
   "execution_count": 17,
   "id": "s0bqoh6u677x",
   "metadata": {
    "id": "s0bqoh6u677x"
   },
   "outputs": [],
   "source": [
    "mlp = joblib.load('monk_models/mlp_m1.z')"
   ]
  },
  {
   "cell_type": "code",
   "execution_count": 18,
   "id": "El9iof4-c6Zb",
   "metadata": {
    "colab": {
     "base_uri": "https://localhost:8080/"
    },
    "id": "El9iof4-c6Zb",
    "outputId": "34f69d08-aa13-4032-db2c-5a41efbe590b"
   },
   "outputs": [
    {
     "data": {
      "text/plain": [
       "MLPClassifier(activation='tanh', early_stopping=True,\n",
       "              hidden_layer_sizes=(4, 4, 4), learning_rate_init=0.5,\n",
       "              max_iter=500, momentum=0.7, n_iter_no_change=20,\n",
       "              nesterovs_momentum=False, random_state=42, solver='sgd', tol=0,\n",
       "              validation_fraction=0.2)"
      ]
     },
     "execution_count": 18,
     "metadata": {},
     "output_type": "execute_result"
    }
   ],
   "source": [
    "mlp"
   ]
  },
  {
   "cell_type": "code",
   "execution_count": 19,
   "id": "SvShw5DD677x",
   "metadata": {
    "id": "SvShw5DD677x"
   },
   "outputs": [],
   "source": [
    "train_pred_mlp = mlp.predict(x_train_m1)"
   ]
  },
  {
   "cell_type": "code",
   "execution_count": 20,
   "id": "33879fb0-5945-4dfa-9a16-e900d3f597c1",
   "metadata": {},
   "outputs": [
    {
     "name": "stdout",
     "output_type": "stream",
     "text": [
      "Accuracy train set\n",
      "              precision    recall  f1-score   support\n",
      "\n",
      "           0       1.00      1.00      1.00        62\n",
      "           1       1.00      1.00      1.00        62\n",
      "\n",
      "    accuracy                           1.00       124\n",
      "   macro avg       1.00      1.00      1.00       124\n",
      "weighted avg       1.00      1.00      1.00       124\n",
      "\n"
     ]
    }
   ],
   "source": [
    "print('Accuracy train set')\n",
    "print(classification_report(y_train_m1, train_pred_mlp))"
   ]
  },
  {
   "cell_type": "code",
   "execution_count": 21,
   "id": "1fdfd941-cb3d-4267-8a82-5a78f387bd98",
   "metadata": {},
   "outputs": [],
   "source": [
    "test_pred_mlp = mlp.predict(x_test_m1)"
   ]
  },
  {
   "cell_type": "code",
   "execution_count": 22,
   "id": "5edf1104-e834-417e-8b7f-26a75da1677a",
   "metadata": {},
   "outputs": [
    {
     "name": "stdout",
     "output_type": "stream",
     "text": [
      "Accuarcy test set\n",
      "              precision    recall  f1-score   support\n",
      "\n",
      "           0       1.00      0.98      0.99       216\n",
      "           1       0.98      1.00      0.99       216\n",
      "\n",
      "    accuracy                           0.99       432\n",
      "   macro avg       0.99      0.99      0.99       432\n",
      "weighted avg       0.99      0.99      0.99       432\n",
      "\n"
     ]
    }
   ],
   "source": [
    "print('Accuarcy test set')\n",
    "print(classification_report(y_test_m1, test_pred_mlp))"
   ]
  },
  {
   "cell_type": "code",
   "execution_count": 23,
   "id": "93346e90-96db-4613-9a3d-476d69860ab4",
   "metadata": {
    "tags": []
   },
   "outputs": [
    {
     "data": {
      "image/png": "[encoded data removed]",
      "text/plain": [
       "<Figure size 640x480 with 2 Axes>"
      ]
     },
     "metadata": {},
     "output_type": "display_data"
    }
   ],
   "source": [
    "plot_confusion_matrix(mlp, x_test_m1, y_test_m1)\n",
    "plt.show() "
   ]
  },
  {
   "cell_type": "code",
   "execution_count": 24,
   "id": "78e20eec-4172-4f5b-9da9-1b5c6271280d",
   "metadata": {
    "tags": []
   },
   "outputs": [],
   "source": [
    "results.append(('MLPClassifier monk-1 train', accuracy_score(y_train_m1, train_pred_mlp)))\n",
    "results.append(('MLPClassifier monk-1 validation', mlp_cv_m1.best_score_))\n",
    "results.append(('MLPClassifier monk-1 test', accuracy_score(y_test_m1, test_pred_mlp)))"
   ]
  },
  {
   "attachments": {},
   "cell_type": "markdown",
   "id": "c80e3a46-88e9-478c-a2eb-8ae0964d45d0",
   "metadata": {},
   "source": [
    "## MLPClassifier - monk 2"
   ]
  },
  {
   "cell_type": "code",
   "execution_count": 25,
   "id": "dc2cd153-43a7-44e1-b961-48da7434c468",
   "metadata": {
    "id": "GBKjijjF677w"
   },
   "outputs": [],
   "source": [
    "params = {  \n",
    "    'hidden_layer_sizes': [(5,), (5,5,), (5,5,5,), (4,), (4,4,), (4,4,4,), (3,), (3,3,), (3,3,3,), (2,), (2,2,), (2,2,2,)],\n",
    "    'activation': ['tanh', 'relu'], \n",
    "    'solver': ['sgd'],\n",
    "    'learning_rate_init':  [0.5, 0.7, 0.9], #0.001, 0.01,\n",
    "    #'learning_rate': ['constant', 'invscaling', 'adaptive'], #added now\n",
    "    'momentum': [0.5, 0.7, 0.9], #[0.0, 0.01, 0.1], \n",
    "    #'alpha': [0], #0.001, 0.01, 0.05, 0.1],\n",
    "    'n_iter_no_change': [20],\n",
    "    'tol': [0]\n",
    "    #'batch_size': [16]\n",
    "}"
   ]
  },
  {
   "cell_type": "code",
   "execution_count": 26,
   "id": "83adf943-06f6-4af5-acc4-7c985fb32a70",
   "metadata": {
    "id": "YBP5U1vt677w"
   },
   "outputs": [
    {
     "name": "stdout",
     "output_type": "stream",
     "text": [
      "Fitting 5 folds for each of 216 candidates, totalling 1080 fits\n",
      "time for grid search = 31 sec\n"
     ]
    }
   ],
   "source": [
    "#hyperparameter tuning with grid search CV\n",
    "n_jobs_search = -1\n",
    "\n",
    "start=time()\n",
    "\n",
    "mlp_search = MLPClassifier(early_stopping=True, random_state=42, max_iter=500, validation_fraction=0.2, nesterovs_momentum=False)\n",
    "\n",
    "mlp_cv_m2 = GridSearchCV(estimator=mlp_search, param_grid=params, scoring='accuracy',#make_scorer(MEE, greater_is_better = False), \n",
    "                      cv=5, verbose=4, n_jobs=n_jobs_search) \n",
    "mlp_cv_m2.fit(x_train_m2, y_train_m2)\n",
    "\n",
    "print('time for grid search = {:.0f} sec'.format(time()-start))"
   ]
  },
  {
   "cell_type": "code",
   "execution_count": 27,
   "id": "32b8f7b3-4bd8-42a3-9a29-1673de4676e9",
   "metadata": {
    "colab": {
     "base_uri": "https://localhost:8080/"
    },
    "id": "ws_WYPgj677x",
    "outputId": "5feccafe-f70d-4e0f-8b46-4962a49d132b"
   },
   "outputs": [
    {
     "data": {
      "text/plain": [
       "{'activation': 'tanh',\n",
       " 'hidden_layer_sizes': (4, 4, 4),\n",
       " 'learning_rate_init': 0.9,\n",
       " 'momentum': 0.7,\n",
       " 'n_iter_no_change': 20,\n",
       " 'solver': 'sgd',\n",
       " 'tol': 0}"
      ]
     },
     "execution_count": 27,
     "metadata": {},
     "output_type": "execute_result"
    }
   ],
   "source": [
    "mlp_cv_m2.best_params_"
   ]
  },
  {
   "cell_type": "code",
   "execution_count": 28,
   "id": "3010c696-ae71-44df-9be0-e6cb8e6492ea",
   "metadata": {
    "colab": {
     "base_uri": "https://localhost:8080/"
    },
    "id": "tdrDU0z4677x",
    "outputId": "d95ee9a0-e311-4b00-8a40-4ce1358ff0b7"
   },
   "outputs": [
    {
     "data": {
      "text/plain": [
       "0.9941176470588236"
      ]
     },
     "execution_count": 28,
     "metadata": {},
     "output_type": "execute_result"
    }
   ],
   "source": [
    "# validation\n",
    "mlp_cv_m2.best_score_"
   ]
  },
  {
   "cell_type": "code",
   "execution_count": 29,
   "id": "b3d4cb70-0b0f-4b36-bdaa-015e06ac7377",
   "metadata": {},
   "outputs": [],
   "source": [
    "best_ep_est = np.argmin(mlp_cv_m2.best_estimator_.loss_curve_)+1"
   ]
  },
  {
   "cell_type": "code",
   "execution_count": 30,
   "id": "b71cd388-70b4-4d2d-b004-3cd5f5dfff1d",
   "metadata": {},
   "outputs": [
    {
     "data": {
      "text/plain": [
       "500"
      ]
     },
     "execution_count": 30,
     "metadata": {},
     "output_type": "execute_result"
    }
   ],
   "source": [
    "best_ep_est"
   ]
  },
  {
   "cell_type": "code",
   "execution_count": 31,
   "id": "594627d5-d53f-4974-b311-f4a4f0ae82f2",
   "metadata": {},
   "outputs": [
    {
     "data": {
      "text/plain": [
       "<matplotlib.legend.Legend at 0x1e9f00ef110>"
      ]
     },
     "execution_count": 31,
     "metadata": {},
     "output_type": "execute_result"
    },
    {
     "data": {
      "image/png": "[encoded data removed]",
      "text/plain": [
       "<Figure size 2000x500 with 1 Axes>"
      ]
     },
     "metadata": {},
     "output_type": "display_data"
    }
   ],
   "source": [
    "#Loss plot\n",
    "plt.figure(figsize = (20,5))\n",
    "plt.plot(pd.DataFrame(mlp_cv_m2.best_estimator_.loss_curve_[0:best_ep_est]), label='Loss') \n",
    "#plt.plot(pd.DataFrame(mlp_cv_m1.best_estimator_.validation_scores_[0:best_ep_est]), label='accuracy', linestyle='dashed')       \n",
    "plt.xlabel('Epochs')\n",
    "plt.ylabel('Loss')\n",
    "#plt.ylim([0,5])\n",
    "plt.xticks(#np.arange(len(mlp_cv_m1.best_estimator_.loss_curve_[0:best_ep_est])), \n",
    "           np.arange(1, len(mlp_cv_m2.best_estimator_.loss_curve_[0:best_ep_est])+1, 50)) \n",
    "           #rotation=90)\n",
    "plt.legend(loc = 'upper right')"
   ]
  },
  {
   "cell_type": "code",
   "execution_count": 32,
   "id": "e9741733-1a72-4802-a292-da97b8d88f6e",
   "metadata": {},
   "outputs": [
    {
     "data": {
      "text/plain": [
       "<matplotlib.legend.Legend at 0x1e9f0049750>"
      ]
     },
     "execution_count": 32,
     "metadata": {},
     "output_type": "execute_result"
    },
    {
     "data": {
      "image/png": "[encoded data removed]",
      "text/plain": [
       "<Figure size 2000x500 with 1 Axes>"
      ]
     },
     "metadata": {},
     "output_type": "display_data"
    }
   ],
   "source": [
    "#acc plot\n",
    "plt.figure(figsize = (20,5))\n",
    "#plt.plot(pd.DataFrame(mlp_cv_m1.best_estimator_.loss_curve_[0:best_ep_est]), label='Loss') \n",
    "plt.plot(pd.DataFrame(mlp_cv_m2.best_estimator_.validation_scores_[0:best_ep_est]), label='accuracy', linestyle='dashed')       \n",
    "plt.xlabel('Epochs')\n",
    "plt.ylabel('Loss')\n",
    "#plt.ylim([0,5])\n",
    "plt.xticks(#np.arange(len(mlp_cv_m1.best_estimator_.loss_curve_[0:best_ep_est])), \n",
    "           np.arange(1, len(mlp_cv_m2.best_estimator_.loss_curve_[0:best_ep_est])+1, 50)) \n",
    "           #rotation=90)\n",
    "plt.legend(loc = 'lower right')"
   ]
  },
  {
   "cell_type": "code",
   "execution_count": 33,
   "id": "a181784c-fcbb-4a09-ae65-02c9c4958524",
   "metadata": {
    "id": "e5d5f261",
    "outputId": "7df56560-8de7-4df8-d31e-ec7e4f28db5f"
   },
   "outputs": [
    {
     "data": {
      "text/plain": [
       "['monk_models/mlp_m2.z']"
      ]
     },
     "execution_count": 33,
     "metadata": {},
     "output_type": "execute_result"
    }
   ],
   "source": [
    "# save the model to disk\n",
    "joblib.dump(mlp_cv_m2.best_estimator_, 'monk_models/mlp_m2.z')"
   ]
  },
  {
   "attachments": {},
   "cell_type": "markdown",
   "id": "5de1a482-b406-4b12-a3a5-53a00cd559c2",
   "metadata": {
    "id": "ELqwTyDW677x"
   },
   "source": [
    "### Final model"
   ]
  },
  {
   "cell_type": "code",
   "execution_count": 34,
   "id": "59ebf841-cd6f-4f4e-bec3-a26f0f04c3b0",
   "metadata": {
    "id": "s0bqoh6u677x"
   },
   "outputs": [],
   "source": [
    "mlp = joblib.load('monk_models/mlp_m2.z')"
   ]
  },
  {
   "cell_type": "code",
   "execution_count": 35,
   "id": "7fbbc717-4e0c-4def-8ae8-1dca6ed55db5",
   "metadata": {
    "colab": {
     "base_uri": "https://localhost:8080/"
    },
    "id": "El9iof4-c6Zb",
    "outputId": "34f69d08-aa13-4032-db2c-5a41efbe590b"
   },
   "outputs": [
    {
     "data": {
      "text/plain": [
       "MLPClassifier(activation='tanh', early_stopping=True,\n",
       "              hidden_layer_sizes=(4, 4, 4), learning_rate_init=0.9,\n",
       "              max_iter=500, momentum=0.7, n_iter_no_change=20,\n",
       "              nesterovs_momentum=False, random_state=42, solver='sgd', tol=0,\n",
       "              validation_fraction=0.2)"
      ]
     },
     "execution_count": 35,
     "metadata": {},
     "output_type": "execute_result"
    }
   ],
   "source": [
    "mlp"
   ]
  },
  {
   "cell_type": "code",
   "execution_count": 36,
   "id": "d33d80d8-489c-4279-bf43-43b303c57f9b",
   "metadata": {
    "id": "SvShw5DD677x"
   },
   "outputs": [],
   "source": [
    "train_pred_mlp = mlp.predict(x_train_m2)"
   ]
  },
  {
   "cell_type": "code",
   "execution_count": 37,
   "id": "7c8f088c-9825-489b-8dcb-d6bd8ac7aa48",
   "metadata": {},
   "outputs": [
    {
     "name": "stdout",
     "output_type": "stream",
     "text": [
      "Accuracy train set\n",
      "              precision    recall  f1-score   support\n",
      "\n",
      "           0       1.00      0.99      1.00       105\n",
      "           1       0.98      1.00      0.99        64\n",
      "\n",
      "    accuracy                           0.99       169\n",
      "   macro avg       0.99      1.00      0.99       169\n",
      "weighted avg       0.99      0.99      0.99       169\n",
      "\n"
     ]
    }
   ],
   "source": [
    "print('Accuracy train set')\n",
    "print(classification_report(y_train_m2, train_pred_mlp))"
   ]
  },
  {
   "cell_type": "code",
   "execution_count": 38,
   "id": "e289faef-5957-4d99-9db8-402074b75360",
   "metadata": {},
   "outputs": [],
   "source": [
    "test_pred_mlp = mlp.predict(x_test_m2)"
   ]
  },
  {
   "cell_type": "code",
   "execution_count": 39,
   "id": "7aed6894-b7fe-4e0a-b953-79af4392c699",
   "metadata": {},
   "outputs": [
    {
     "name": "stdout",
     "output_type": "stream",
     "text": [
      "Accuarcy test set\n",
      "              precision    recall  f1-score   support\n",
      "\n",
      "           0       0.99      0.95      0.97       290\n",
      "           1       0.91      0.99      0.95       142\n",
      "\n",
      "    accuracy                           0.96       432\n",
      "   macro avg       0.95      0.97      0.96       432\n",
      "weighted avg       0.97      0.96      0.96       432\n",
      "\n"
     ]
    }
   ],
   "source": [
    "print('Accuarcy test set')\n",
    "print(classification_report(y_test_m2, test_pred_mlp))"
   ]
  },
  {
   "cell_type": "code",
   "execution_count": 40,
   "id": "b988533a-9381-480c-ac00-fa6dd39993ba",
   "metadata": {
    "tags": []
   },
   "outputs": [
    {
     "data": {
      "image/png": "[encoded data removed]",
      "text/plain": [
       "<Figure size 640x480 with 2 Axes>"
      ]
     },
     "metadata": {},
     "output_type": "display_data"
    }
   ],
   "source": [
    "plot_confusion_matrix(mlp, x_test_m2, y_test_m2)\n",
    "plt.show() "
   ]
  },
  {
   "cell_type": "code",
   "execution_count": 41,
   "id": "185bbaba-4e66-4a90-b050-62f343ced230",
   "metadata": {
    "tags": []
   },
   "outputs": [],
   "source": [
    "results.append(('MLPClassifier monk-2 train', accuracy_score(y_train_m2, train_pred_mlp)))\n",
    "results.append(('MLPClassifier monk-2 validation', mlp_cv_m2.best_score_))\n",
    "results.append(('MLPClassifier monk-2 test', accuracy_score(y_test_m2, test_pred_mlp)))"
   ]
  },
  {
   "attachments": {},
   "cell_type": "markdown",
   "id": "f9e3bc23-11e5-4a33-9810-492a3d8da1de",
   "metadata": {},
   "source": [
    "## MLPClassifier - monk 3"
   ]
  },
  {
   "cell_type": "code",
   "execution_count": 42,
   "id": "4c2cc350-0e8f-4a40-b453-e4ab2f026fde",
   "metadata": {
    "id": "GBKjijjF677w"
   },
   "outputs": [],
   "source": [
    "params = {  \n",
    "    'hidden_layer_sizes': [(5,), (5,5,), (5,5,5,), (4,), (4,4,), (4,4,4,), (3,), (3,3,), (3,3,3,), (2,), (2,2,), (2,2,2,)],\n",
    "    'activation': ['tanh', 'relu'], \n",
    "    'solver': ['sgd'],\n",
    "    'learning_rate_init':  [0.1, 0.3, 0.5, 0.7, 0.9], #0.001, 0.01,\n",
    "    #'learning_rate': ['constant', 'invscaling', 'adaptive'], #added now\n",
    "    'momentum': [0.1, 0.3, 0.5, 0.7, 0.9], #[0.0, 0.01, 0.1], \n",
    "    'alpha': [0.001, 0.01, 0.1],\n",
    "    'n_iter_no_change': [20],\n",
    "    'tol': [0]\n",
    "    #'batch_size': [16]\n",
    "}"
   ]
  },
  {
   "cell_type": "code",
   "execution_count": 43,
   "id": "ff7487e0-00c3-479b-8cd6-72416db2e5f2",
   "metadata": {
    "id": "YBP5U1vt677w"
   },
   "outputs": [
    {
     "name": "stdout",
     "output_type": "stream",
     "text": [
      "Fitting 5 folds for each of 1800 candidates, totalling 9000 fits\n",
      "time for grid search = 255 sec\n"
     ]
    }
   ],
   "source": [
    "#hyperparameter tuning with grid search CV\n",
    "n_jobs_search = -1\n",
    "\n",
    "start=time()\n",
    "\n",
    "mlp_search = MLPClassifier(early_stopping=True, random_state=42, max_iter=500, validation_fraction=0.2, nesterovs_momentum=False)\n",
    "\n",
    "mlp_cv_m3 = GridSearchCV(estimator=mlp_search, param_grid=params, scoring='accuracy',#make_scorer(MEE, greater_is_better = False), \n",
    "                      cv=5, verbose=4, n_jobs=n_jobs_search) \n",
    "mlp_cv_m3.fit(x_train_m3, y_train_m3)\n",
    "\n",
    "print('time for grid search = {:.0f} sec'.format(time()-start))"
   ]
  },
  {
   "cell_type": "code",
   "execution_count": 44,
   "id": "21b3099f-3b8d-4851-95fd-1f59128f5d95",
   "metadata": {
    "colab": {
     "base_uri": "https://localhost:8080/"
    },
    "id": "ws_WYPgj677x",
    "outputId": "5feccafe-f70d-4e0f-8b46-4962a49d132b"
   },
   "outputs": [
    {
     "data": {
      "text/plain": [
       "{'activation': 'relu',\n",
       " 'alpha': 0.1,\n",
       " 'hidden_layer_sizes': (2,),\n",
       " 'learning_rate_init': 0.7,\n",
       " 'momentum': 0.9,\n",
       " 'n_iter_no_change': 20,\n",
       " 'solver': 'sgd',\n",
       " 'tol': 0}"
      ]
     },
     "execution_count": 44,
     "metadata": {},
     "output_type": "execute_result"
    }
   ],
   "source": [
    "mlp_cv_m3.best_params_"
   ]
  },
  {
   "cell_type": "code",
   "execution_count": 45,
   "id": "7881dd99-7ff1-494b-8325-e845426aa841",
   "metadata": {
    "colab": {
     "base_uri": "https://localhost:8080/"
    },
    "id": "tdrDU0z4677x",
    "outputId": "d95ee9a0-e311-4b00-8a40-4ce1358ff0b7"
   },
   "outputs": [
    {
     "data": {
      "text/plain": [
       "0.9423333333333334"
      ]
     },
     "execution_count": 45,
     "metadata": {},
     "output_type": "execute_result"
    }
   ],
   "source": [
    "# validation\n",
    "mlp_cv_m3.best_score_"
   ]
  },
  {
   "cell_type": "code",
   "execution_count": 46,
   "id": "94706eb2-0227-434e-a02b-e9d2dc2b09bc",
   "metadata": {},
   "outputs": [],
   "source": [
    "best_ep_est = np.argmin(mlp_cv_m3.best_estimator_.loss_curve_)+1"
   ]
  },
  {
   "cell_type": "code",
   "execution_count": 47,
   "id": "c0df996e-817c-419f-9678-d10b776956af",
   "metadata": {},
   "outputs": [
    {
     "data": {
      "text/plain": [
       "64"
      ]
     },
     "execution_count": 47,
     "metadata": {},
     "output_type": "execute_result"
    }
   ],
   "source": [
    "best_ep_est"
   ]
  },
  {
   "cell_type": "code",
   "execution_count": 48,
   "id": "6640d7e8-6c8e-43b1-8035-c8fad023c8b2",
   "metadata": {},
   "outputs": [
    {
     "data": {
      "text/plain": [
       "<matplotlib.legend.Legend at 0x1e9edcf1310>"
      ]
     },
     "execution_count": 48,
     "metadata": {},
     "output_type": "execute_result"
    },
    {
     "data": {
      "image/png": "[encoded data removed]",
      "text/plain": [
       "<Figure size 2000x500 with 1 Axes>"
      ]
     },
     "metadata": {},
     "output_type": "display_data"
    }
   ],
   "source": [
    "#Loss plot\n",
    "plt.figure(figsize = (20,5))\n",
    "plt.plot(pd.DataFrame(mlp_cv_m3.best_estimator_.loss_curve_[0:best_ep_est]), label='Loss') \n",
    "#plt.plot(pd.DataFrame(mlp_cv_m1.best_estimator_.validation_scores_[0:best_ep_est]), label='accuracy', linestyle='dashed')       \n",
    "plt.xlabel('Epochs')\n",
    "plt.ylabel('Loss')\n",
    "#plt.ylim([0,5])\n",
    "plt.xticks(#np.arange(len(mlp_cv_m1.best_estimator_.loss_curve_[0:best_ep_est])), \n",
    "           np.arange(1, len(mlp_cv_m3.best_estimator_.loss_curve_[0:best_ep_est])+1, 50)) \n",
    "           #rotation=90)\n",
    "plt.legend(loc = 'upper right')"
   ]
  },
  {
   "cell_type": "code",
   "execution_count": 49,
   "id": "a30e9db2-5437-489f-890d-7b1830401866",
   "metadata": {},
   "outputs": [
    {
     "data": {
      "text/plain": [
       "<matplotlib.legend.Legend at 0x1e9f0289810>"
      ]
     },
     "execution_count": 49,
     "metadata": {},
     "output_type": "execute_result"
    },
    {
     "data": {
      "image/png": "[encoded data removed]",
      "text/plain": [
       "<Figure size 2000x500 with 1 Axes>"
      ]
     },
     "metadata": {},
     "output_type": "display_data"
    }
   ],
   "source": [
    "#acc plot\n",
    "plt.figure(figsize = (20,5))\n",
    "#plt.plot(pd.DataFrame(mlp_cv_m1.best_estimator_.loss_curve_[0:best_ep_est]), label='Loss') \n",
    "plt.plot(pd.DataFrame(mlp_cv_m3.best_estimator_.validation_scores_[0:best_ep_est]), label='accuracy', linestyle='dashed')       \n",
    "plt.xlabel('Epochs')\n",
    "plt.ylabel('Loss')\n",
    "#plt.ylim([0,5])\n",
    "plt.xticks(#np.arange(len(mlp_cv_m1.best_estimator_.loss_curve_[0:best_ep_est])), \n",
    "           np.arange(1, len(mlp_cv_m3.best_estimator_.loss_curve_[0:best_ep_est])+1, 50)) \n",
    "           #rotation=90)\n",
    "plt.legend(loc = 'lower right')"
   ]
  },
  {
   "cell_type": "code",
   "execution_count": 50,
   "id": "42438775-63e2-439e-ba8f-3b66b7016e2c",
   "metadata": {
    "id": "e5d5f261",
    "outputId": "7df56560-8de7-4df8-d31e-ec7e4f28db5f"
   },
   "outputs": [
    {
     "data": {
      "text/plain": [
       "['monk_models/mlp_m3.z']"
      ]
     },
     "execution_count": 50,
     "metadata": {},
     "output_type": "execute_result"
    }
   ],
   "source": [
    "# save the model to disk\n",
    "joblib.dump(mlp_cv_m3.best_estimator_, 'monk_models/mlp_m3.z')"
   ]
  },
  {
   "attachments": {},
   "cell_type": "markdown",
   "id": "ab148d18-95c8-411a-b461-9358f55f7c65",
   "metadata": {
    "id": "ELqwTyDW677x"
   },
   "source": [
    "### Final model"
   ]
  },
  {
   "cell_type": "code",
   "execution_count": 51,
   "id": "649683db-058b-4d1b-8a1c-7643421e893a",
   "metadata": {
    "id": "s0bqoh6u677x"
   },
   "outputs": [],
   "source": [
    "mlp = joblib.load('monk_models/mlp_m3.z')"
   ]
  },
  {
   "cell_type": "code",
   "execution_count": 52,
   "id": "74c4a769-c659-4c1d-b6a3-dc9fc03e1978",
   "metadata": {
    "colab": {
     "base_uri": "https://localhost:8080/"
    },
    "id": "El9iof4-c6Zb",
    "outputId": "34f69d08-aa13-4032-db2c-5a41efbe590b"
   },
   "outputs": [
    {
     "data": {
      "text/plain": [
       "MLPClassifier(alpha=0.1, early_stopping=True, hidden_layer_sizes=(2,),\n",
       "              learning_rate_init=0.7, max_iter=500, n_iter_no_change=20,\n",
       "              nesterovs_momentum=False, random_state=42, solver='sgd', tol=0,\n",
       "              validation_fraction=0.2)"
      ]
     },
     "execution_count": 52,
     "metadata": {},
     "output_type": "execute_result"
    }
   ],
   "source": [
    "mlp"
   ]
  },
  {
   "cell_type": "code",
   "execution_count": 53,
   "id": "71cfc76d-7bc2-4203-bc8d-de6e7fc2bfa3",
   "metadata": {
    "id": "SvShw5DD677x"
   },
   "outputs": [],
   "source": [
    "train_pred_mlp = mlp.predict(x_train_m3)"
   ]
  },
  {
   "cell_type": "code",
   "execution_count": 54,
   "id": "3d06d900-5790-40e7-8296-4c86cd33308d",
   "metadata": {},
   "outputs": [
    {
     "name": "stdout",
     "output_type": "stream",
     "text": [
      "Accuracy train set\n",
      "              precision    recall  f1-score   support\n",
      "\n",
      "           0       0.95      0.94      0.94        62\n",
      "           1       0.93      0.95      0.94        60\n",
      "\n",
      "    accuracy                           0.94       122\n",
      "   macro avg       0.94      0.94      0.94       122\n",
      "weighted avg       0.94      0.94      0.94       122\n",
      "\n"
     ]
    }
   ],
   "source": [
    "print('Accuracy train set')\n",
    "print(classification_report(y_train_m3, train_pred_mlp))"
   ]
  },
  {
   "cell_type": "code",
   "execution_count": 55,
   "id": "ebbaf06c-0d86-40a6-a34c-e3cb7793053a",
   "metadata": {},
   "outputs": [],
   "source": [
    "test_pred_mlp = mlp.predict(x_test_m3)"
   ]
  },
  {
   "cell_type": "code",
   "execution_count": 56,
   "id": "53c5f450-5f5a-476c-b3cb-7e9393187ff6",
   "metadata": {},
   "outputs": [
    {
     "name": "stdout",
     "output_type": "stream",
     "text": [
      "Accuarcy test set\n",
      "              precision    recall  f1-score   support\n",
      "\n",
      "           0       0.89      1.00      0.94       204\n",
      "           1       1.00      0.89      0.94       228\n",
      "\n",
      "    accuracy                           0.94       432\n",
      "   macro avg       0.94      0.94      0.94       432\n",
      "weighted avg       0.95      0.94      0.94       432\n",
      "\n"
     ]
    }
   ],
   "source": [
    "print('Accuarcy test set')\n",
    "print(classification_report(y_test_m3, test_pred_mlp))"
   ]
  },
  {
   "cell_type": "code",
   "execution_count": 57,
   "id": "6cef1ba3-0cb9-4223-90b4-32a0aa651e77",
   "metadata": {
    "tags": []
   },
   "outputs": [
    {
     "data": {
      "image/png": "[encoded data removed]",
      "text/plain": [
       "<Figure size 640x480 with 2 Axes>"
      ]
     },
     "metadata": {},
     "output_type": "display_data"
    }
   ],
   "source": [
    "plot_confusion_matrix(mlp, x_test_m3, y_test_m3)\n",
    "plt.show() "
   ]
  },
  {
   "cell_type": "code",
   "execution_count": 58,
   "id": "744a45a5-2e15-4f76-8f9e-86258a6e2b55",
   "metadata": {
    "tags": []
   },
   "outputs": [],
   "source": [
    "results.append(('MLPClassifier monk-3 train', accuracy_score(y_train_m3, train_pred_mlp)))\n",
    "results.append(('MLPClassifier monk-3 validation', mlp_cv_m3.best_score_))\n",
    "results.append(('MLPClassifier monk-3 test', accuracy_score(y_test_m3, test_pred_mlp)))"
   ]
  },
  {
   "attachments": {},
   "cell_type": "markdown",
   "id": "8Vecew8mPH_u",
   "metadata": {
    "id": "8Vecew8mPH_u"
   },
   "source": [
    "# Summary"
   ]
  },
  {
   "cell_type": "code",
   "execution_count": 59,
   "id": "RjhdgQJc-K05",
   "metadata": {
    "colab": {
     "base_uri": "https://localhost:8080/"
    },
    "id": "RjhdgQJc-K05",
    "outputId": "2f97f20b-73df-4ee4-d566-95e75fc54d6b"
   },
   "outputs": [
    {
     "name": "stdout",
     "output_type": "stream",
     "text": [
      "('MLPClassifier monk-1 train', 1.0)\n",
      "('MLPClassifier monk-1 validation', 0.968)\n",
      "('MLPClassifier monk-1 test', 0.9907407407407407)\n",
      "('MLPClassifier monk-2 train', 0.9940828402366864)\n",
      "('MLPClassifier monk-2 validation', 0.9941176470588236)\n",
      "('MLPClassifier monk-2 test', 0.9629629629629629)\n",
      "('MLPClassifier monk-3 train', 0.9426229508196722)\n",
      "('MLPClassifier monk-3 validation', 0.9423333333333334)\n",
      "('MLPClassifier monk-3 test', 0.9398148148148148)\n"
     ]
    }
   ],
   "source": [
    "for i in range(len(results)):\n",
    "  print(results[i])"
   ]
  }
 ],
 "metadata": {
  "colab": {
   "collapsed_sections": [
    "FflMaBASVxvy",
    "KXzNMXm7fl9u"
   ],
   "provenance": []
  },
  "kernelspec": {
   "display_name": "Python 3",
   "language": "python",
   "name": "python3"
  },
  "language_info": {
   "codemirror_mode": {
    "name": "ipython",
    "version": 3
   },
   "file_extension": ".py",
   "mimetype": "text/x-python",
   "name": "python",
   "nbconvert_exporter": "python",
   "pygments_lexer": "ipython3",
   "version": "3.11.0"
  },
  "vscode": {
   "interpreter": {
    "hash": "25ac610e9174fa160c0cdbe0563a2bda541028b128e4230f5f3630bf9b9c363a"
   }
  }
 },
 "nbformat": 4,
 "nbformat_minor": 5
}
